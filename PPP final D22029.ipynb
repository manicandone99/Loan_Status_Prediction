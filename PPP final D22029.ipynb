{
 "cells": [
  {
   "cell_type": "markdown",
   "id": "d2f44c3d",
   "metadata": {},
   "source": [
    "### LOAN DATASET (CLASSIFICATION PROBLEM)"
   ]
  },
  {
   "cell_type": "code",
   "execution_count": 1,
   "id": "fc29f9ed",
   "metadata": {},
   "outputs": [],
   "source": [
    "import numpy as np\n",
    "import pandas as pd\n",
    "import matplotlib.pyplot as plt\n",
    "import warnings\n",
    "warnings.filterwarnings('ignore')\n",
    "from sklearn.metrics import classification_report\n",
    "from sklearn.ensemble import RandomForestClassifier,BaggingClassifier, AdaBoostClassifier\n",
    "from sklearn.model_selection import train_test_split\n",
    "from sklearn.linear_model import LogisticRegression\n",
    "from sklearn.neighbors import KNeighborsClassifier\n",
    "from sklearn.metrics import accuracy_score,plot_roc_curve,roc_curve,roc_auc_score,classification_report,confusion_matrix,recall_score,f1_score,precision_score,precision_recall_curve"
   ]
  },
  {
   "cell_type": "code",
   "execution_count": 2,
   "id": "9a5ad5ea",
   "metadata": {},
   "outputs": [],
   "source": [
    "df=pd.read_csv(r'C:\\Users\\manis\\Downloads\\Loans - Training Set.csv')"
   ]
  },
  {
   "cell_type": "code",
   "execution_count": 4,
   "id": "dcf307e5",
   "metadata": {},
   "outputs": [
    {
     "data": {
      "text/html": [
       "<div>\n",
       "<style scoped>\n",
       "    .dataframe tbody tr th:only-of-type {\n",
       "        vertical-align: middle;\n",
       "    }\n",
       "\n",
       "    .dataframe tbody tr th {\n",
       "        vertical-align: top;\n",
       "    }\n",
       "\n",
       "    .dataframe thead th {\n",
       "        text-align: right;\n",
       "    }\n",
       "</style>\n",
       "<table border=\"1\" class=\"dataframe\">\n",
       "  <thead>\n",
       "    <tr style=\"text-align: right;\">\n",
       "      <th></th>\n",
       "      <th>Loan ID</th>\n",
       "      <th>Customer ID</th>\n",
       "      <th>Loan Status</th>\n",
       "      <th>Current Loan Amount</th>\n",
       "      <th>Term</th>\n",
       "      <th>Credit Score</th>\n",
       "      <th>Years in current job</th>\n",
       "      <th>Home Ownership</th>\n",
       "      <th>Annual Income</th>\n",
       "      <th>Purpose</th>\n",
       "      <th>Monthly Debt</th>\n",
       "      <th>Years of Credit History</th>\n",
       "      <th>Months since last delinquent</th>\n",
       "      <th>Number of Open Accounts</th>\n",
       "      <th>Number of Credit Problems</th>\n",
       "      <th>Current Credit Balance</th>\n",
       "      <th>Maximum Open Credit</th>\n",
       "      <th>Bankruptcies</th>\n",
       "      <th>Tax Liens</th>\n",
       "    </tr>\n",
       "  </thead>\n",
       "  <tbody>\n",
       "    <tr>\n",
       "      <th>0</th>\n",
       "      <td>6cf51492-02a2-423e-b93d-676f05b9ad53</td>\n",
       "      <td>7c202b37-2add-44e8-9aea-d5b119aea935</td>\n",
       "      <td>Charged Off</td>\n",
       "      <td>12232</td>\n",
       "      <td>Short Term</td>\n",
       "      <td>7280.0</td>\n",
       "      <td>&lt; 1 year</td>\n",
       "      <td>Rent</td>\n",
       "      <td>46643.0</td>\n",
       "      <td>Debt Consolidation</td>\n",
       "      <td>777.39</td>\n",
       "      <td>18.0</td>\n",
       "      <td>10.0</td>\n",
       "      <td>12</td>\n",
       "      <td>0</td>\n",
       "      <td>6762</td>\n",
       "      <td>7946</td>\n",
       "      <td>0.0</td>\n",
       "      <td>0.0</td>\n",
       "    </tr>\n",
       "    <tr>\n",
       "      <th>1</th>\n",
       "      <td>552e7ade-4292-4354-9ff9-c48031697d72</td>\n",
       "      <td>e7217b0a-07ac-47dd-b379-577b5a35b7c6</td>\n",
       "      <td>Charged Off</td>\n",
       "      <td>25014</td>\n",
       "      <td>Long Term</td>\n",
       "      <td>7330.0</td>\n",
       "      <td>10+ years</td>\n",
       "      <td>Home Mortgage</td>\n",
       "      <td>81099.0</td>\n",
       "      <td>Debt Consolidation</td>\n",
       "      <td>892.09</td>\n",
       "      <td>26.7</td>\n",
       "      <td>NaN</td>\n",
       "      <td>14</td>\n",
       "      <td>0</td>\n",
       "      <td>35706</td>\n",
       "      <td>77961</td>\n",
       "      <td>0.0</td>\n",
       "      <td>0.0</td>\n",
       "    </tr>\n",
       "    <tr>\n",
       "      <th>2</th>\n",
       "      <td>9b5e32b3-8d76-4801-afc8-d729d5a2e6b9</td>\n",
       "      <td>0a62fc41-16c8-40b5-92ff-9e4b763ce714</td>\n",
       "      <td>Charged Off</td>\n",
       "      <td>16117</td>\n",
       "      <td>Short Term</td>\n",
       "      <td>7240.0</td>\n",
       "      <td>9 years</td>\n",
       "      <td>Home Mortgage</td>\n",
       "      <td>60438.0</td>\n",
       "      <td>Home Improvements</td>\n",
       "      <td>1244.02</td>\n",
       "      <td>16.7</td>\n",
       "      <td>32.0</td>\n",
       "      <td>11</td>\n",
       "      <td>1</td>\n",
       "      <td>11275</td>\n",
       "      <td>14815</td>\n",
       "      <td>1.0</td>\n",
       "      <td>0.0</td>\n",
       "    </tr>\n",
       "    <tr>\n",
       "      <th>3</th>\n",
       "      <td>5419b7c7-ac11-4be2-a8a7-b131fb6d6dbe</td>\n",
       "      <td>30f36c59-5182-4482-8bbb-5b736849ae43</td>\n",
       "      <td>Charged Off</td>\n",
       "      <td>11716</td>\n",
       "      <td>Short Term</td>\n",
       "      <td>7400.0</td>\n",
       "      <td>3 years</td>\n",
       "      <td>Rent</td>\n",
       "      <td>34171.0</td>\n",
       "      <td>Debt Consolidation</td>\n",
       "      <td>990.94</td>\n",
       "      <td>10.0</td>\n",
       "      <td>NaN</td>\n",
       "      <td>21</td>\n",
       "      <td>0</td>\n",
       "      <td>7009</td>\n",
       "      <td>43533</td>\n",
       "      <td>0.0</td>\n",
       "      <td>0.0</td>\n",
       "    </tr>\n",
       "    <tr>\n",
       "      <th>4</th>\n",
       "      <td>1450910f-9495-4fc9-afaf-9bdf4b9821df</td>\n",
       "      <td>70c26012-bba5-42c0-8dcb-75295ada31bb</td>\n",
       "      <td>Charged Off</td>\n",
       "      <td>9789</td>\n",
       "      <td>Long Term</td>\n",
       "      <td>6860.0</td>\n",
       "      <td>10+ years</td>\n",
       "      <td>Home Mortgage</td>\n",
       "      <td>47003.0</td>\n",
       "      <td>Home Improvements</td>\n",
       "      <td>503.71</td>\n",
       "      <td>16.7</td>\n",
       "      <td>25.0</td>\n",
       "      <td>13</td>\n",
       "      <td>1</td>\n",
       "      <td>16913</td>\n",
       "      <td>19553</td>\n",
       "      <td>1.0</td>\n",
       "      <td>0.0</td>\n",
       "    </tr>\n",
       "  </tbody>\n",
       "</table>\n",
       "</div>"
      ],
      "text/plain": [
       "                                Loan ID                           Customer ID  \\\n",
       "0  6cf51492-02a2-423e-b93d-676f05b9ad53  7c202b37-2add-44e8-9aea-d5b119aea935   \n",
       "1  552e7ade-4292-4354-9ff9-c48031697d72  e7217b0a-07ac-47dd-b379-577b5a35b7c6   \n",
       "2  9b5e32b3-8d76-4801-afc8-d729d5a2e6b9  0a62fc41-16c8-40b5-92ff-9e4b763ce714   \n",
       "3  5419b7c7-ac11-4be2-a8a7-b131fb6d6dbe  30f36c59-5182-4482-8bbb-5b736849ae43   \n",
       "4  1450910f-9495-4fc9-afaf-9bdf4b9821df  70c26012-bba5-42c0-8dcb-75295ada31bb   \n",
       "\n",
       "   Loan Status  Current Loan Amount        Term  Credit Score  \\\n",
       "0  Charged Off                12232  Short Term        7280.0   \n",
       "1  Charged Off                25014   Long Term        7330.0   \n",
       "2  Charged Off                16117  Short Term        7240.0   \n",
       "3  Charged Off                11716  Short Term        7400.0   \n",
       "4  Charged Off                 9789   Long Term        6860.0   \n",
       "\n",
       "  Years in current job Home Ownership  Annual Income             Purpose  \\\n",
       "0             < 1 year           Rent        46643.0  Debt Consolidation   \n",
       "1            10+ years  Home Mortgage        81099.0  Debt Consolidation   \n",
       "2              9 years  Home Mortgage        60438.0   Home Improvements   \n",
       "3              3 years           Rent        34171.0  Debt Consolidation   \n",
       "4            10+ years  Home Mortgage        47003.0   Home Improvements   \n",
       "\n",
       "  Monthly Debt  Years of Credit History  Months since last delinquent  \\\n",
       "0       777.39                     18.0                          10.0   \n",
       "1       892.09                     26.7                           NaN   \n",
       "2      1244.02                     16.7                          32.0   \n",
       "3       990.94                     10.0                           NaN   \n",
       "4       503.71                     16.7                          25.0   \n",
       "\n",
       "   Number of Open Accounts  Number of Credit Problems  Current Credit Balance  \\\n",
       "0                       12                          0                    6762   \n",
       "1                       14                          0                   35706   \n",
       "2                       11                          1                   11275   \n",
       "3                       21                          0                    7009   \n",
       "4                       13                          1                   16913   \n",
       "\n",
       "  Maximum Open Credit  Bankruptcies  Tax Liens  \n",
       "0                7946           0.0        0.0  \n",
       "1               77961           0.0        0.0  \n",
       "2               14815           1.0        0.0  \n",
       "3               43533           0.0        0.0  \n",
       "4               19553           1.0        0.0  "
      ]
     },
     "execution_count": 4,
     "metadata": {},
     "output_type": "execute_result"
    }
   ],
   "source": [
    "df.head()"
   ]
  },
  {
   "cell_type": "code",
   "execution_count": 5,
   "id": "0a164f71",
   "metadata": {},
   "outputs": [
    {
     "data": {
      "text/plain": [
       "Index(['Loan ID', 'Customer ID', 'Loan Status', 'Current Loan Amount', 'Term',\n",
       "       'Credit Score', 'Years in current job', 'Home Ownership',\n",
       "       'Annual Income', 'Purpose', 'Monthly Debt', 'Years of Credit History',\n",
       "       'Months since last delinquent', 'Number of Open Accounts',\n",
       "       'Number of Credit Problems', 'Current Credit Balance',\n",
       "       'Maximum Open Credit', 'Bankruptcies', 'Tax Liens'],\n",
       "      dtype='object')"
      ]
     },
     "execution_count": 5,
     "metadata": {},
     "output_type": "execute_result"
    }
   ],
   "source": [
    "df.columns"
   ]
  },
  {
   "cell_type": "code",
   "execution_count": 6,
   "id": "470f189a",
   "metadata": {},
   "outputs": [
    {
     "name": "stdout",
     "output_type": "stream",
     "text": [
      "<class 'pandas.core.frame.DataFrame'>\n",
      "RangeIndex: 111107 entries, 0 to 111106\n",
      "Data columns (total 19 columns):\n",
      " #   Column                        Non-Null Count   Dtype  \n",
      "---  ------                        --------------   -----  \n",
      " 0   Loan ID                       111107 non-null  object \n",
      " 1   Customer ID                   111107 non-null  object \n",
      " 2   Loan Status                   111107 non-null  object \n",
      " 3   Current Loan Amount           111107 non-null  int64  \n",
      " 4   Term                          111107 non-null  object \n",
      " 5   Credit Score                  89769 non-null   float64\n",
      " 6   Years in current job          106414 non-null  object \n",
      " 7   Home Ownership                111107 non-null  object \n",
      " 8   Annual Income                 89769 non-null   float64\n",
      " 9   Purpose                       111107 non-null  object \n",
      " 10  Monthly Debt                  111107 non-null  object \n",
      " 11  Years of Credit History       111107 non-null  float64\n",
      " 12  Months since last delinquent  52104 non-null   float64\n",
      " 13  Number of Open Accounts       111107 non-null  int64  \n",
      " 14  Number of Credit Problems     111107 non-null  int64  \n",
      " 15  Current Credit Balance        111107 non-null  int64  \n",
      " 16  Maximum Open Credit           111107 non-null  object \n",
      " 17  Bankruptcies                  110879 non-null  float64\n",
      " 18  Tax Liens                     111096 non-null  float64\n",
      "dtypes: float64(6), int64(4), object(9)\n",
      "memory usage: 16.1+ MB\n"
     ]
    }
   ],
   "source": [
    "df.info()"
   ]
  },
  {
   "cell_type": "code",
   "execution_count": 7,
   "id": "c5dceb45",
   "metadata": {},
   "outputs": [
    {
     "data": {
      "text/plain": [
       "Loan ID                             0\n",
       "Customer ID                         0\n",
       "Loan Status                         0\n",
       "Current Loan Amount                 0\n",
       "Term                                0\n",
       "Credit Score                    21338\n",
       "Years in current job             4693\n",
       "Home Ownership                      0\n",
       "Annual Income                   21338\n",
       "Purpose                             0\n",
       "Monthly Debt                        0\n",
       "Years of Credit History             0\n",
       "Months since last delinquent    59003\n",
       "Number of Open Accounts             0\n",
       "Number of Credit Problems           0\n",
       "Current Credit Balance              0\n",
       "Maximum Open Credit                 0\n",
       "Bankruptcies                      228\n",
       "Tax Liens                          11\n",
       "dtype: int64"
      ]
     },
     "execution_count": 7,
     "metadata": {},
     "output_type": "execute_result"
    }
   ],
   "source": [
    "df.isnull().sum()"
   ]
  },
  {
   "cell_type": "code",
   "execution_count": 8,
   "id": "d6de0fcd",
   "metadata": {
    "scrolled": true
   },
   "outputs": [
    {
     "data": {
      "text/plain": [
       "0.0     108964\n",
       "1.0       1485\n",
       "2.0        408\n",
       "3.0        124\n",
       "4.0         66\n",
       "5.0         19\n",
       "6.0         12\n",
       "7.0          7\n",
       "9.0          5\n",
       "8.0          2\n",
       "11.0         2\n",
       "15.0         1\n",
       "10.0         1\n",
       "Name: Tax Liens, dtype: int64"
      ]
     },
     "execution_count": 8,
     "metadata": {},
     "output_type": "execute_result"
    }
   ],
   "source": [
    "df['Tax Liens'].value_counts()"
   ]
  },
  {
   "cell_type": "code",
   "execution_count": 9,
   "id": "0418f1e9",
   "metadata": {},
   "outputs": [
    {
     "data": {
      "text/plain": [
       "0.0    98650\n",
       "1.0    11613\n",
       "2.0      468\n",
       "3.0      110\n",
       "4.0       27\n",
       "5.0        8\n",
       "6.0        2\n",
       "7.0        1\n",
       "Name: Bankruptcies, dtype: int64"
      ]
     },
     "execution_count": 9,
     "metadata": {},
     "output_type": "execute_result"
    }
   ],
   "source": [
    "df['Bankruptcies'].value_counts()"
   ]
  },
  {
   "cell_type": "code",
   "execution_count": 10,
   "id": "9d9f6f93",
   "metadata": {},
   "outputs": [
    {
     "data": {
      "text/plain": [
       "Fully Paid     85934\n",
       "Charged Off    25173\n",
       "Name: Loan Status, dtype: int64"
      ]
     },
     "execution_count": 10,
     "metadata": {},
     "output_type": "execute_result"
    }
   ],
   "source": [
    "df[\"Loan Status\"].value_counts()"
   ]
  },
  {
   "cell_type": "code",
   "execution_count": 11,
   "id": "391162e5",
   "metadata": {},
   "outputs": [
    {
     "data": {
      "text/html": [
       "<div>\n",
       "<style scoped>\n",
       "    .dataframe tbody tr th:only-of-type {\n",
       "        vertical-align: middle;\n",
       "    }\n",
       "\n",
       "    .dataframe tbody tr th {\n",
       "        vertical-align: top;\n",
       "    }\n",
       "\n",
       "    .dataframe thead th {\n",
       "        text-align: right;\n",
       "    }\n",
       "</style>\n",
       "<table border=\"1\" class=\"dataframe\">\n",
       "  <thead>\n",
       "    <tr style=\"text-align: right;\">\n",
       "      <th></th>\n",
       "      <th>Loan ID</th>\n",
       "      <th>Customer ID</th>\n",
       "      <th>Loan Status</th>\n",
       "      <th>Current Loan Amount</th>\n",
       "      <th>Term</th>\n",
       "      <th>Credit Score</th>\n",
       "      <th>Years in current job</th>\n",
       "      <th>Home Ownership</th>\n",
       "      <th>Annual Income</th>\n",
       "      <th>Purpose</th>\n",
       "      <th>Monthly Debt</th>\n",
       "      <th>Years of Credit History</th>\n",
       "      <th>Months since last delinquent</th>\n",
       "      <th>Number of Open Accounts</th>\n",
       "      <th>Number of Credit Problems</th>\n",
       "      <th>Current Credit Balance</th>\n",
       "      <th>Maximum Open Credit</th>\n",
       "      <th>Bankruptcies</th>\n",
       "      <th>Tax Liens</th>\n",
       "    </tr>\n",
       "  </thead>\n",
       "  <tbody>\n",
       "    <tr>\n",
       "      <th>0</th>\n",
       "      <td>6cf51492-02a2-423e-b93d-676f05b9ad53</td>\n",
       "      <td>7c202b37-2add-44e8-9aea-d5b119aea935</td>\n",
       "      <td>Charged Off</td>\n",
       "      <td>12232</td>\n",
       "      <td>Short Term</td>\n",
       "      <td>7280.0</td>\n",
       "      <td>&lt; 1 year</td>\n",
       "      <td>Rent</td>\n",
       "      <td>46643.0</td>\n",
       "      <td>Debt Consolidation</td>\n",
       "      <td>777.39</td>\n",
       "      <td>18.0</td>\n",
       "      <td>10.0</td>\n",
       "      <td>12</td>\n",
       "      <td>0</td>\n",
       "      <td>6762</td>\n",
       "      <td>7946</td>\n",
       "      <td>0.0</td>\n",
       "      <td>0.0</td>\n",
       "    </tr>\n",
       "    <tr>\n",
       "      <th>1</th>\n",
       "      <td>552e7ade-4292-4354-9ff9-c48031697d72</td>\n",
       "      <td>e7217b0a-07ac-47dd-b379-577b5a35b7c6</td>\n",
       "      <td>Charged Off</td>\n",
       "      <td>25014</td>\n",
       "      <td>Long Term</td>\n",
       "      <td>7330.0</td>\n",
       "      <td>10+ years</td>\n",
       "      <td>Home Mortgage</td>\n",
       "      <td>81099.0</td>\n",
       "      <td>Debt Consolidation</td>\n",
       "      <td>892.09</td>\n",
       "      <td>26.7</td>\n",
       "      <td>NaN</td>\n",
       "      <td>14</td>\n",
       "      <td>0</td>\n",
       "      <td>35706</td>\n",
       "      <td>77961</td>\n",
       "      <td>0.0</td>\n",
       "      <td>0.0</td>\n",
       "    </tr>\n",
       "    <tr>\n",
       "      <th>2</th>\n",
       "      <td>9b5e32b3-8d76-4801-afc8-d729d5a2e6b9</td>\n",
       "      <td>0a62fc41-16c8-40b5-92ff-9e4b763ce714</td>\n",
       "      <td>Charged Off</td>\n",
       "      <td>16117</td>\n",
       "      <td>Short Term</td>\n",
       "      <td>7240.0</td>\n",
       "      <td>9 years</td>\n",
       "      <td>Home Mortgage</td>\n",
       "      <td>60438.0</td>\n",
       "      <td>Home Improvements</td>\n",
       "      <td>1244.02</td>\n",
       "      <td>16.7</td>\n",
       "      <td>32.0</td>\n",
       "      <td>11</td>\n",
       "      <td>1</td>\n",
       "      <td>11275</td>\n",
       "      <td>14815</td>\n",
       "      <td>1.0</td>\n",
       "      <td>0.0</td>\n",
       "    </tr>\n",
       "    <tr>\n",
       "      <th>3</th>\n",
       "      <td>5419b7c7-ac11-4be2-a8a7-b131fb6d6dbe</td>\n",
       "      <td>30f36c59-5182-4482-8bbb-5b736849ae43</td>\n",
       "      <td>Charged Off</td>\n",
       "      <td>11716</td>\n",
       "      <td>Short Term</td>\n",
       "      <td>7400.0</td>\n",
       "      <td>3 years</td>\n",
       "      <td>Rent</td>\n",
       "      <td>34171.0</td>\n",
       "      <td>Debt Consolidation</td>\n",
       "      <td>990.94</td>\n",
       "      <td>10.0</td>\n",
       "      <td>NaN</td>\n",
       "      <td>21</td>\n",
       "      <td>0</td>\n",
       "      <td>7009</td>\n",
       "      <td>43533</td>\n",
       "      <td>0.0</td>\n",
       "      <td>0.0</td>\n",
       "    </tr>\n",
       "    <tr>\n",
       "      <th>4</th>\n",
       "      <td>1450910f-9495-4fc9-afaf-9bdf4b9821df</td>\n",
       "      <td>70c26012-bba5-42c0-8dcb-75295ada31bb</td>\n",
       "      <td>Charged Off</td>\n",
       "      <td>9789</td>\n",
       "      <td>Long Term</td>\n",
       "      <td>6860.0</td>\n",
       "      <td>10+ years</td>\n",
       "      <td>Home Mortgage</td>\n",
       "      <td>47003.0</td>\n",
       "      <td>Home Improvements</td>\n",
       "      <td>503.71</td>\n",
       "      <td>16.7</td>\n",
       "      <td>25.0</td>\n",
       "      <td>13</td>\n",
       "      <td>1</td>\n",
       "      <td>16913</td>\n",
       "      <td>19553</td>\n",
       "      <td>1.0</td>\n",
       "      <td>0.0</td>\n",
       "    </tr>\n",
       "    <tr>\n",
       "      <th>...</th>\n",
       "      <td>...</td>\n",
       "      <td>...</td>\n",
       "      <td>...</td>\n",
       "      <td>...</td>\n",
       "      <td>...</td>\n",
       "      <td>...</td>\n",
       "      <td>...</td>\n",
       "      <td>...</td>\n",
       "      <td>...</td>\n",
       "      <td>...</td>\n",
       "      <td>...</td>\n",
       "      <td>...</td>\n",
       "      <td>...</td>\n",
       "      <td>...</td>\n",
       "      <td>...</td>\n",
       "      <td>...</td>\n",
       "      <td>...</td>\n",
       "      <td>...</td>\n",
       "      <td>...</td>\n",
       "    </tr>\n",
       "    <tr>\n",
       "      <th>111102</th>\n",
       "      <td>503f01e2-c3c4-4b10-886e-f15de57b6f1a</td>\n",
       "      <td>27a17610-1d8c-48a7-b0db-2d81a4fa099a</td>\n",
       "      <td>Fully Paid</td>\n",
       "      <td>15654</td>\n",
       "      <td>Long Term</td>\n",
       "      <td>686.0</td>\n",
       "      <td>10+ years</td>\n",
       "      <td>Rent</td>\n",
       "      <td>43050.0</td>\n",
       "      <td>Debt Consolidation</td>\n",
       "      <td>889.69</td>\n",
       "      <td>14.1</td>\n",
       "      <td>49.0</td>\n",
       "      <td>18</td>\n",
       "      <td>0</td>\n",
       "      <td>14730</td>\n",
       "      <td>29757</td>\n",
       "      <td>0.0</td>\n",
       "      <td>0.0</td>\n",
       "    </tr>\n",
       "    <tr>\n",
       "      <th>111103</th>\n",
       "      <td>8af53bc0-56a4-4801-a960-52a46a90b33f</td>\n",
       "      <td>c124ca71-f42a-47cc-8ec2-236f7e9868a5</td>\n",
       "      <td>Fully Paid</td>\n",
       "      <td>15237</td>\n",
       "      <td>Short Term</td>\n",
       "      <td>706.0</td>\n",
       "      <td>10+ years</td>\n",
       "      <td>Home Mortgage</td>\n",
       "      <td>60948.0</td>\n",
       "      <td>Debt Consolidation</td>\n",
       "      <td>700.9</td>\n",
       "      <td>15.9</td>\n",
       "      <td>48.0</td>\n",
       "      <td>11</td>\n",
       "      <td>0</td>\n",
       "      <td>17733</td>\n",
       "      <td>23060</td>\n",
       "      <td>0.0</td>\n",
       "      <td>0.0</td>\n",
       "    </tr>\n",
       "    <tr>\n",
       "      <th>111104</th>\n",
       "      <td>96efd327-f965-42ae-8b2b-d2555205ce19</td>\n",
       "      <td>7d959a54-8eeb-4df6-b582-046f889e4cff</td>\n",
       "      <td>Fully Paid</td>\n",
       "      <td>10413</td>\n",
       "      <td>Short Term</td>\n",
       "      <td>719.0</td>\n",
       "      <td>5 years</td>\n",
       "      <td>Home Mortgage</td>\n",
       "      <td>66945.0</td>\n",
       "      <td>Debt Consolidation</td>\n",
       "      <td>1210.59</td>\n",
       "      <td>8.7</td>\n",
       "      <td>NaN</td>\n",
       "      <td>11</td>\n",
       "      <td>0</td>\n",
       "      <td>5205</td>\n",
       "      <td>6348</td>\n",
       "      <td>0.0</td>\n",
       "      <td>0.0</td>\n",
       "    </tr>\n",
       "    <tr>\n",
       "      <th>111105</th>\n",
       "      <td>ec19166c-70c5-4d49-adb6-fb3fc15024a2</td>\n",
       "      <td>5723fbf2-1ce8-4752-8bee-1bebf339f278</td>\n",
       "      <td>Fully Paid</td>\n",
       "      <td>34447</td>\n",
       "      <td>Short Term</td>\n",
       "      <td>626.0</td>\n",
       "      <td>10+ years</td>\n",
       "      <td>Home Mortgage</td>\n",
       "      <td>78736.0</td>\n",
       "      <td>Debt Consolidation</td>\n",
       "      <td>1476.3</td>\n",
       "      <td>30.4</td>\n",
       "      <td>9.0</td>\n",
       "      <td>12</td>\n",
       "      <td>0</td>\n",
       "      <td>32318</td>\n",
       "      <td>37580</td>\n",
       "      <td>0.0</td>\n",
       "      <td>0.0</td>\n",
       "    </tr>\n",
       "    <tr>\n",
       "      <th>111106</th>\n",
       "      <td>f83ae0e1-bd30-46c7-9f72-f4f9fe2f36ca</td>\n",
       "      <td>74187e35-39c2-4010-ae0d-8bcd0544189e</td>\n",
       "      <td>Fully Paid</td>\n",
       "      <td>9209</td>\n",
       "      <td>Long Term</td>\n",
       "      <td>708.0</td>\n",
       "      <td>&lt; 1 year</td>\n",
       "      <td>Own Home</td>\n",
       "      <td>123454.0</td>\n",
       "      <td>Debt Consolidation</td>\n",
       "      <td>668.71</td>\n",
       "      <td>20.1</td>\n",
       "      <td>16.0</td>\n",
       "      <td>8</td>\n",
       "      <td>0</td>\n",
       "      <td>6835</td>\n",
       "      <td>9261</td>\n",
       "      <td>0.0</td>\n",
       "      <td>0.0</td>\n",
       "    </tr>\n",
       "  </tbody>\n",
       "</table>\n",
       "<p>111107 rows × 19 columns</p>\n",
       "</div>"
      ],
      "text/plain": [
       "                                     Loan ID  \\\n",
       "0       6cf51492-02a2-423e-b93d-676f05b9ad53   \n",
       "1       552e7ade-4292-4354-9ff9-c48031697d72   \n",
       "2       9b5e32b3-8d76-4801-afc8-d729d5a2e6b9   \n",
       "3       5419b7c7-ac11-4be2-a8a7-b131fb6d6dbe   \n",
       "4       1450910f-9495-4fc9-afaf-9bdf4b9821df   \n",
       "...                                      ...   \n",
       "111102  503f01e2-c3c4-4b10-886e-f15de57b6f1a   \n",
       "111103  8af53bc0-56a4-4801-a960-52a46a90b33f   \n",
       "111104  96efd327-f965-42ae-8b2b-d2555205ce19   \n",
       "111105  ec19166c-70c5-4d49-adb6-fb3fc15024a2   \n",
       "111106  f83ae0e1-bd30-46c7-9f72-f4f9fe2f36ca   \n",
       "\n",
       "                                 Customer ID  Loan Status  \\\n",
       "0       7c202b37-2add-44e8-9aea-d5b119aea935  Charged Off   \n",
       "1       e7217b0a-07ac-47dd-b379-577b5a35b7c6  Charged Off   \n",
       "2       0a62fc41-16c8-40b5-92ff-9e4b763ce714  Charged Off   \n",
       "3       30f36c59-5182-4482-8bbb-5b736849ae43  Charged Off   \n",
       "4       70c26012-bba5-42c0-8dcb-75295ada31bb  Charged Off   \n",
       "...                                      ...          ...   \n",
       "111102  27a17610-1d8c-48a7-b0db-2d81a4fa099a   Fully Paid   \n",
       "111103  c124ca71-f42a-47cc-8ec2-236f7e9868a5   Fully Paid   \n",
       "111104  7d959a54-8eeb-4df6-b582-046f889e4cff   Fully Paid   \n",
       "111105  5723fbf2-1ce8-4752-8bee-1bebf339f278   Fully Paid   \n",
       "111106  74187e35-39c2-4010-ae0d-8bcd0544189e   Fully Paid   \n",
       "\n",
       "        Current Loan Amount        Term  Credit Score Years in current job  \\\n",
       "0                     12232  Short Term        7280.0             < 1 year   \n",
       "1                     25014   Long Term        7330.0            10+ years   \n",
       "2                     16117  Short Term        7240.0              9 years   \n",
       "3                     11716  Short Term        7400.0              3 years   \n",
       "4                      9789   Long Term        6860.0            10+ years   \n",
       "...                     ...         ...           ...                  ...   \n",
       "111102                15654   Long Term         686.0            10+ years   \n",
       "111103                15237  Short Term         706.0            10+ years   \n",
       "111104                10413  Short Term         719.0              5 years   \n",
       "111105                34447  Short Term         626.0            10+ years   \n",
       "111106                 9209   Long Term         708.0             < 1 year   \n",
       "\n",
       "       Home Ownership  Annual Income             Purpose Monthly Debt  \\\n",
       "0                Rent        46643.0  Debt Consolidation       777.39   \n",
       "1       Home Mortgage        81099.0  Debt Consolidation       892.09   \n",
       "2       Home Mortgage        60438.0   Home Improvements      1244.02   \n",
       "3                Rent        34171.0  Debt Consolidation       990.94   \n",
       "4       Home Mortgage        47003.0   Home Improvements       503.71   \n",
       "...               ...            ...                 ...          ...   \n",
       "111102           Rent        43050.0  Debt Consolidation       889.69   \n",
       "111103  Home Mortgage        60948.0  Debt Consolidation        700.9   \n",
       "111104  Home Mortgage        66945.0  Debt Consolidation      1210.59   \n",
       "111105  Home Mortgage        78736.0  Debt Consolidation       1476.3   \n",
       "111106       Own Home       123454.0  Debt Consolidation       668.71   \n",
       "\n",
       "        Years of Credit History  Months since last delinquent  \\\n",
       "0                          18.0                          10.0   \n",
       "1                          26.7                           NaN   \n",
       "2                          16.7                          32.0   \n",
       "3                          10.0                           NaN   \n",
       "4                          16.7                          25.0   \n",
       "...                         ...                           ...   \n",
       "111102                     14.1                          49.0   \n",
       "111103                     15.9                          48.0   \n",
       "111104                      8.7                           NaN   \n",
       "111105                     30.4                           9.0   \n",
       "111106                     20.1                          16.0   \n",
       "\n",
       "        Number of Open Accounts  Number of Credit Problems  \\\n",
       "0                            12                          0   \n",
       "1                            14                          0   \n",
       "2                            11                          1   \n",
       "3                            21                          0   \n",
       "4                            13                          1   \n",
       "...                         ...                        ...   \n",
       "111102                       18                          0   \n",
       "111103                       11                          0   \n",
       "111104                       11                          0   \n",
       "111105                       12                          0   \n",
       "111106                        8                          0   \n",
       "\n",
       "        Current Credit Balance Maximum Open Credit  Bankruptcies  Tax Liens  \n",
       "0                         6762                7946           0.0        0.0  \n",
       "1                        35706               77961           0.0        0.0  \n",
       "2                        11275               14815           1.0        0.0  \n",
       "3                         7009               43533           0.0        0.0  \n",
       "4                        16913               19553           1.0        0.0  \n",
       "...                        ...                 ...           ...        ...  \n",
       "111102                   14730               29757           0.0        0.0  \n",
       "111103                   17733               23060           0.0        0.0  \n",
       "111104                    5205                6348           0.0        0.0  \n",
       "111105                   32318               37580           0.0        0.0  \n",
       "111106                    6835                9261           0.0        0.0  \n",
       "\n",
       "[111107 rows x 19 columns]"
      ]
     },
     "execution_count": 11,
     "metadata": {},
     "output_type": "execute_result"
    }
   ],
   "source": [
    "df"
   ]
  },
  {
   "cell_type": "code",
   "execution_count": 12,
   "id": "2c8947d5",
   "metadata": {},
   "outputs": [],
   "source": [
    "df0=df[df[\"Loan Status\"]=='Fully Paid']\n",
    "df1=df[df[\"Loan Status\"]=='Charged Off']"
   ]
  },
  {
   "cell_type": "code",
   "execution_count": 13,
   "id": "4db4d991",
   "metadata": {},
   "outputs": [
    {
     "data": {
      "text/plain": [
       "(111107, 19)"
      ]
     },
     "execution_count": 13,
     "metadata": {},
     "output_type": "execute_result"
    }
   ],
   "source": [
    "df.shape"
   ]
  },
  {
   "cell_type": "code",
   "execution_count": 14,
   "id": "9d4f4e6d",
   "metadata": {
    "scrolled": true
   },
   "outputs": [
    {
     "data": {
      "text/plain": [
       "(85934, 19)"
      ]
     },
     "execution_count": 14,
     "metadata": {},
     "output_type": "execute_result"
    }
   ],
   "source": [
    "df0.shape"
   ]
  },
  {
   "cell_type": "code",
   "execution_count": 15,
   "id": "13a127a5",
   "metadata": {},
   "outputs": [
    {
     "data": {
      "text/plain": [
       "(25173, 19)"
      ]
     },
     "execution_count": 15,
     "metadata": {},
     "output_type": "execute_result"
    }
   ],
   "source": [
    "df1.shape"
   ]
  },
  {
   "cell_type": "code",
   "execution_count": null,
   "id": "d7b0fe65",
   "metadata": {},
   "outputs": [],
   "source": []
  },
  {
   "cell_type": "code",
   "execution_count": 16,
   "id": "889fd7d6",
   "metadata": {},
   "outputs": [],
   "source": [
    "df0['Months since last delinquent']=df0['Months since last delinquent'].fillna(df0['Months since last delinquent'].median())\n",
    "df1['Months since last delinquent']=df1['Months since last delinquent'].fillna(df1['Months since last delinquent'].median())"
   ]
  },
  {
   "cell_type": "code",
   "execution_count": 17,
   "id": "3bb1f2a7",
   "metadata": {},
   "outputs": [],
   "source": [
    "df0['Years in current job']=df0['Years in current job'].fillna(df0['Years in current job'].mode()[0])\n",
    "df1['Years in current job']=df1['Years in current job'].fillna(df1['Years in current job'].mode()[0])"
   ]
  },
  {
   "cell_type": "code",
   "execution_count": 18,
   "id": "874fcc1b",
   "metadata": {},
   "outputs": [],
   "source": [
    "df0['Annual Income']=df0['Annual Income'].fillna(df0['Annual Income'].mean())\n",
    "df1['Annual Income']=df1['Annual Income'].fillna(df1['Annual Income'].mean())"
   ]
  },
  {
   "cell_type": "code",
   "execution_count": 19,
   "id": "30f09393",
   "metadata": {},
   "outputs": [],
   "source": [
    "df0['Tax Liens']=df0['Tax Liens'].fillna(df0['Tax Liens'].mode()[0])\n",
    "df1['Tax Liens']=df1['Tax Liens'].fillna(df1['Tax Liens'].mode()[0])"
   ]
  },
  {
   "cell_type": "code",
   "execution_count": 20,
   "id": "405959fc",
   "metadata": {},
   "outputs": [
    {
     "data": {
      "text/plain": [
       "0    0.0\n",
       "Name: Tax Liens, dtype: float64"
      ]
     },
     "execution_count": 20,
     "metadata": {},
     "output_type": "execute_result"
    }
   ],
   "source": [
    "df0['Tax Liens'].mode()"
   ]
  },
  {
   "cell_type": "code",
   "execution_count": 21,
   "id": "394cba9a",
   "metadata": {},
   "outputs": [
    {
     "data": {
      "text/plain": [
       "0.0"
      ]
     },
     "execution_count": 21,
     "metadata": {},
     "output_type": "execute_result"
    }
   ],
   "source": [
    "df0['Tax Liens'].mode()[0]"
   ]
  },
  {
   "cell_type": "code",
   "execution_count": 22,
   "id": "44369b2f",
   "metadata": {},
   "outputs": [],
   "source": [
    "df0['Bankruptcies']=df0['Bankruptcies'].fillna(df0['Bankruptcies'].mode()[0])\n",
    "df1['Bankruptcies']=df1['Bankruptcies'].fillna(df1['Bankruptcies'].mode()[0])"
   ]
  },
  {
   "cell_type": "code",
   "execution_count": 23,
   "id": "165db1a8",
   "metadata": {},
   "outputs": [
    {
     "data": {
      "text/plain": [
       "(111107, 19)"
      ]
     },
     "execution_count": 23,
     "metadata": {},
     "output_type": "execute_result"
    }
   ],
   "source": [
    "df_new=pd.concat([df0,df1])\n",
    "df_new.shape"
   ]
  },
  {
   "cell_type": "code",
   "execution_count": 24,
   "id": "cabc975f",
   "metadata": {},
   "outputs": [],
   "source": [
    "df_new = df_new.sort_index()"
   ]
  },
  {
   "cell_type": "code",
   "execution_count": 25,
   "id": "2e75810f",
   "metadata": {},
   "outputs": [
    {
     "data": {
      "text/plain": [
       "Loan ID                             0\n",
       "Customer ID                         0\n",
       "Loan Status                         0\n",
       "Current Loan Amount                 0\n",
       "Term                                0\n",
       "Credit Score                    21338\n",
       "Years in current job                0\n",
       "Home Ownership                      0\n",
       "Annual Income                       0\n",
       "Purpose                             0\n",
       "Monthly Debt                        0\n",
       "Years of Credit History             0\n",
       "Months since last delinquent        0\n",
       "Number of Open Accounts             0\n",
       "Number of Credit Problems           0\n",
       "Current Credit Balance              0\n",
       "Maximum Open Credit                 0\n",
       "Bankruptcies                        0\n",
       "Tax Liens                           0\n",
       "dtype: int64"
      ]
     },
     "execution_count": 25,
     "metadata": {},
     "output_type": "execute_result"
    }
   ],
   "source": [
    "df_new.isnull().sum()"
   ]
  },
  {
   "cell_type": "code",
   "execution_count": 26,
   "id": "f3fb7d44",
   "metadata": {},
   "outputs": [
    {
     "data": {
      "text/plain": [
       "747.0     2040\n",
       "740.0     1954\n",
       "746.0     1932\n",
       "741.0     1922\n",
       "742.0     1911\n",
       "          ... \n",
       "5960.0       1\n",
       "5860.0       1\n",
       "5880.0       1\n",
       "5900.0       1\n",
       "6000.0       1\n",
       "Name: Credit Score, Length: 326, dtype: int64"
      ]
     },
     "execution_count": 26,
     "metadata": {},
     "output_type": "execute_result"
    }
   ],
   "source": [
    "df['Credit Score'].value_counts()"
   ]
  },
  {
   "cell_type": "code",
   "execution_count": 27,
   "id": "c561835d",
   "metadata": {},
   "outputs": [],
   "source": [
    "df_new['Credit Score']=df_new['Credit Score'].fillna(df_new['Credit Score'].mean())"
   ]
  },
  {
   "cell_type": "code",
   "execution_count": 28,
   "id": "3ae86258",
   "metadata": {},
   "outputs": [
    {
     "data": {
      "text/plain": [
       "Loan ID                         0\n",
       "Customer ID                     0\n",
       "Loan Status                     0\n",
       "Current Loan Amount             0\n",
       "Term                            0\n",
       "Credit Score                    0\n",
       "Years in current job            0\n",
       "Home Ownership                  0\n",
       "Annual Income                   0\n",
       "Purpose                         0\n",
       "Monthly Debt                    0\n",
       "Years of Credit History         0\n",
       "Months since last delinquent    0\n",
       "Number of Open Accounts         0\n",
       "Number of Credit Problems       0\n",
       "Current Credit Balance          0\n",
       "Maximum Open Credit             0\n",
       "Bankruptcies                    0\n",
       "Tax Liens                       0\n",
       "dtype: int64"
      ]
     },
     "execution_count": 28,
     "metadata": {},
     "output_type": "execute_result"
    }
   ],
   "source": [
    "df_new.isnull().sum()"
   ]
  },
  {
   "cell_type": "code",
   "execution_count": 29,
   "id": "0547e49c",
   "metadata": {},
   "outputs": [],
   "source": [
    "a=['< 1 year','1 year','2 years','3 years','4 years','5 years','6 years','7 years','8 years','9 years','10+ years']"
   ]
  },
  {
   "cell_type": "code",
   "execution_count": 30,
   "id": "3bb7c754",
   "metadata": {},
   "outputs": [],
   "source": [
    "for i in range (0,11):\n",
    "    df_new['Years in current job'].replace(a[i],i,inplace=True)"
   ]
  },
  {
   "cell_type": "code",
   "execution_count": 31,
   "id": "c4c64247",
   "metadata": {},
   "outputs": [
    {
     "data": {
      "text/html": [
       "<div>\n",
       "<style scoped>\n",
       "    .dataframe tbody tr th:only-of-type {\n",
       "        vertical-align: middle;\n",
       "    }\n",
       "\n",
       "    .dataframe tbody tr th {\n",
       "        vertical-align: top;\n",
       "    }\n",
       "\n",
       "    .dataframe thead th {\n",
       "        text-align: right;\n",
       "    }\n",
       "</style>\n",
       "<table border=\"1\" class=\"dataframe\">\n",
       "  <thead>\n",
       "    <tr style=\"text-align: right;\">\n",
       "      <th></th>\n",
       "      <th>Loan ID</th>\n",
       "      <th>Customer ID</th>\n",
       "      <th>Loan Status</th>\n",
       "      <th>Current Loan Amount</th>\n",
       "      <th>Term</th>\n",
       "      <th>Credit Score</th>\n",
       "      <th>Years in current job</th>\n",
       "      <th>Home Ownership</th>\n",
       "      <th>Annual Income</th>\n",
       "      <th>Purpose</th>\n",
       "      <th>Monthly Debt</th>\n",
       "      <th>Years of Credit History</th>\n",
       "      <th>Months since last delinquent</th>\n",
       "      <th>Number of Open Accounts</th>\n",
       "      <th>Number of Credit Problems</th>\n",
       "      <th>Current Credit Balance</th>\n",
       "      <th>Maximum Open Credit</th>\n",
       "      <th>Bankruptcies</th>\n",
       "      <th>Tax Liens</th>\n",
       "    </tr>\n",
       "  </thead>\n",
       "  <tbody>\n",
       "    <tr>\n",
       "      <th>0</th>\n",
       "      <td>6cf51492-02a2-423e-b93d-676f05b9ad53</td>\n",
       "      <td>7c202b37-2add-44e8-9aea-d5b119aea935</td>\n",
       "      <td>Charged Off</td>\n",
       "      <td>12232</td>\n",
       "      <td>Short Term</td>\n",
       "      <td>7280.0</td>\n",
       "      <td>0</td>\n",
       "      <td>Rent</td>\n",
       "      <td>46643.0</td>\n",
       "      <td>Debt Consolidation</td>\n",
       "      <td>777.39</td>\n",
       "      <td>18.0</td>\n",
       "      <td>10.0</td>\n",
       "      <td>12</td>\n",
       "      <td>0</td>\n",
       "      <td>6762</td>\n",
       "      <td>7946</td>\n",
       "      <td>0.0</td>\n",
       "      <td>0.0</td>\n",
       "    </tr>\n",
       "    <tr>\n",
       "      <th>1</th>\n",
       "      <td>552e7ade-4292-4354-9ff9-c48031697d72</td>\n",
       "      <td>e7217b0a-07ac-47dd-b379-577b5a35b7c6</td>\n",
       "      <td>Charged Off</td>\n",
       "      <td>25014</td>\n",
       "      <td>Long Term</td>\n",
       "      <td>7330.0</td>\n",
       "      <td>10</td>\n",
       "      <td>Home Mortgage</td>\n",
       "      <td>81099.0</td>\n",
       "      <td>Debt Consolidation</td>\n",
       "      <td>892.09</td>\n",
       "      <td>26.7</td>\n",
       "      <td>31.0</td>\n",
       "      <td>14</td>\n",
       "      <td>0</td>\n",
       "      <td>35706</td>\n",
       "      <td>77961</td>\n",
       "      <td>0.0</td>\n",
       "      <td>0.0</td>\n",
       "    </tr>\n",
       "    <tr>\n",
       "      <th>2</th>\n",
       "      <td>9b5e32b3-8d76-4801-afc8-d729d5a2e6b9</td>\n",
       "      <td>0a62fc41-16c8-40b5-92ff-9e4b763ce714</td>\n",
       "      <td>Charged Off</td>\n",
       "      <td>16117</td>\n",
       "      <td>Short Term</td>\n",
       "      <td>7240.0</td>\n",
       "      <td>9</td>\n",
       "      <td>Home Mortgage</td>\n",
       "      <td>60438.0</td>\n",
       "      <td>Home Improvements</td>\n",
       "      <td>1244.02</td>\n",
       "      <td>16.7</td>\n",
       "      <td>32.0</td>\n",
       "      <td>11</td>\n",
       "      <td>1</td>\n",
       "      <td>11275</td>\n",
       "      <td>14815</td>\n",
       "      <td>1.0</td>\n",
       "      <td>0.0</td>\n",
       "    </tr>\n",
       "    <tr>\n",
       "      <th>3</th>\n",
       "      <td>5419b7c7-ac11-4be2-a8a7-b131fb6d6dbe</td>\n",
       "      <td>30f36c59-5182-4482-8bbb-5b736849ae43</td>\n",
       "      <td>Charged Off</td>\n",
       "      <td>11716</td>\n",
       "      <td>Short Term</td>\n",
       "      <td>7400.0</td>\n",
       "      <td>3</td>\n",
       "      <td>Rent</td>\n",
       "      <td>34171.0</td>\n",
       "      <td>Debt Consolidation</td>\n",
       "      <td>990.94</td>\n",
       "      <td>10.0</td>\n",
       "      <td>31.0</td>\n",
       "      <td>21</td>\n",
       "      <td>0</td>\n",
       "      <td>7009</td>\n",
       "      <td>43533</td>\n",
       "      <td>0.0</td>\n",
       "      <td>0.0</td>\n",
       "    </tr>\n",
       "    <tr>\n",
       "      <th>4</th>\n",
       "      <td>1450910f-9495-4fc9-afaf-9bdf4b9821df</td>\n",
       "      <td>70c26012-bba5-42c0-8dcb-75295ada31bb</td>\n",
       "      <td>Charged Off</td>\n",
       "      <td>9789</td>\n",
       "      <td>Long Term</td>\n",
       "      <td>6860.0</td>\n",
       "      <td>10</td>\n",
       "      <td>Home Mortgage</td>\n",
       "      <td>47003.0</td>\n",
       "      <td>Home Improvements</td>\n",
       "      <td>503.71</td>\n",
       "      <td>16.7</td>\n",
       "      <td>25.0</td>\n",
       "      <td>13</td>\n",
       "      <td>1</td>\n",
       "      <td>16913</td>\n",
       "      <td>19553</td>\n",
       "      <td>1.0</td>\n",
       "      <td>0.0</td>\n",
       "    </tr>\n",
       "  </tbody>\n",
       "</table>\n",
       "</div>"
      ],
      "text/plain": [
       "                                Loan ID                           Customer ID  \\\n",
       "0  6cf51492-02a2-423e-b93d-676f05b9ad53  7c202b37-2add-44e8-9aea-d5b119aea935   \n",
       "1  552e7ade-4292-4354-9ff9-c48031697d72  e7217b0a-07ac-47dd-b379-577b5a35b7c6   \n",
       "2  9b5e32b3-8d76-4801-afc8-d729d5a2e6b9  0a62fc41-16c8-40b5-92ff-9e4b763ce714   \n",
       "3  5419b7c7-ac11-4be2-a8a7-b131fb6d6dbe  30f36c59-5182-4482-8bbb-5b736849ae43   \n",
       "4  1450910f-9495-4fc9-afaf-9bdf4b9821df  70c26012-bba5-42c0-8dcb-75295ada31bb   \n",
       "\n",
       "   Loan Status  Current Loan Amount        Term  Credit Score  \\\n",
       "0  Charged Off                12232  Short Term        7280.0   \n",
       "1  Charged Off                25014   Long Term        7330.0   \n",
       "2  Charged Off                16117  Short Term        7240.0   \n",
       "3  Charged Off                11716  Short Term        7400.0   \n",
       "4  Charged Off                 9789   Long Term        6860.0   \n",
       "\n",
       "   Years in current job Home Ownership  Annual Income             Purpose  \\\n",
       "0                     0           Rent        46643.0  Debt Consolidation   \n",
       "1                    10  Home Mortgage        81099.0  Debt Consolidation   \n",
       "2                     9  Home Mortgage        60438.0   Home Improvements   \n",
       "3                     3           Rent        34171.0  Debt Consolidation   \n",
       "4                    10  Home Mortgage        47003.0   Home Improvements   \n",
       "\n",
       "  Monthly Debt  Years of Credit History  Months since last delinquent  \\\n",
       "0       777.39                     18.0                          10.0   \n",
       "1       892.09                     26.7                          31.0   \n",
       "2      1244.02                     16.7                          32.0   \n",
       "3       990.94                     10.0                          31.0   \n",
       "4       503.71                     16.7                          25.0   \n",
       "\n",
       "   Number of Open Accounts  Number of Credit Problems  Current Credit Balance  \\\n",
       "0                       12                          0                    6762   \n",
       "1                       14                          0                   35706   \n",
       "2                       11                          1                   11275   \n",
       "3                       21                          0                    7009   \n",
       "4                       13                          1                   16913   \n",
       "\n",
       "  Maximum Open Credit  Bankruptcies  Tax Liens  \n",
       "0                7946           0.0        0.0  \n",
       "1               77961           0.0        0.0  \n",
       "2               14815           1.0        0.0  \n",
       "3               43533           0.0        0.0  \n",
       "4               19553           1.0        0.0  "
      ]
     },
     "execution_count": 31,
     "metadata": {},
     "output_type": "execute_result"
    }
   ],
   "source": [
    "df_new.head(5)"
   ]
  },
  {
   "cell_type": "code",
   "execution_count": 32,
   "id": "705624a5",
   "metadata": {},
   "outputs": [
    {
     "name": "stdout",
     "output_type": "stream",
     "text": [
      "<class 'pandas.core.frame.DataFrame'>\n",
      "Int64Index: 111107 entries, 0 to 111106\n",
      "Data columns (total 19 columns):\n",
      " #   Column                        Non-Null Count   Dtype  \n",
      "---  ------                        --------------   -----  \n",
      " 0   Loan ID                       111107 non-null  object \n",
      " 1   Customer ID                   111107 non-null  object \n",
      " 2   Loan Status                   111107 non-null  object \n",
      " 3   Current Loan Amount           111107 non-null  int64  \n",
      " 4   Term                          111107 non-null  object \n",
      " 5   Credit Score                  111107 non-null  float64\n",
      " 6   Years in current job          111107 non-null  int64  \n",
      " 7   Home Ownership                111107 non-null  object \n",
      " 8   Annual Income                 111107 non-null  float64\n",
      " 9   Purpose                       111107 non-null  object \n",
      " 10  Monthly Debt                  111107 non-null  object \n",
      " 11  Years of Credit History       111107 non-null  float64\n",
      " 12  Months since last delinquent  111107 non-null  float64\n",
      " 13  Number of Open Accounts       111107 non-null  int64  \n",
      " 14  Number of Credit Problems     111107 non-null  int64  \n",
      " 15  Current Credit Balance        111107 non-null  int64  \n",
      " 16  Maximum Open Credit           111107 non-null  object \n",
      " 17  Bankruptcies                  111107 non-null  float64\n",
      " 18  Tax Liens                     111107 non-null  float64\n",
      "dtypes: float64(6), int64(5), object(8)\n",
      "memory usage: 17.0+ MB\n"
     ]
    }
   ],
   "source": [
    "df_new.info()"
   ]
  },
  {
   "cell_type": "code",
   "execution_count": 33,
   "id": "d123c096",
   "metadata": {},
   "outputs": [],
   "source": [
    "for i in range (111107):\n",
    "    if '$' in str(df_new['Monthly Debt'][i]):\n",
    "        df_new['Monthly Debt'][i]=float(df_new['Monthly Debt'][i][1:])"
   ]
  },
  {
   "cell_type": "code",
   "execution_count": 34,
   "id": "cb3eaf96",
   "metadata": {},
   "outputs": [],
   "source": [
    "df_new['Monthly Debt']=df_new['Monthly Debt'].astype('float')"
   ]
  },
  {
   "cell_type": "code",
   "execution_count": 35,
   "id": "397235cd",
   "metadata": {},
   "outputs": [],
   "source": [
    "for i in range (111107):\n",
    "    if '#VALUE!' in str(df_new['Maximum Open Credit'][i]):\n",
    "        df_new['Maximum Open Credit'][i]=0"
   ]
  },
  {
   "cell_type": "code",
   "execution_count": 36,
   "id": "bbed54c0",
   "metadata": {
    "scrolled": false
   },
   "outputs": [],
   "source": [
    "df_new['Maximum Open Credit']=df_new['Maximum Open Credit'].astype('int')"
   ]
  },
  {
   "cell_type": "code",
   "execution_count": 37,
   "id": "768f842b",
   "metadata": {},
   "outputs": [
    {
     "name": "stdout",
     "output_type": "stream",
     "text": [
      "<class 'pandas.core.frame.DataFrame'>\n",
      "Int64Index: 111107 entries, 0 to 111106\n",
      "Data columns (total 19 columns):\n",
      " #   Column                        Non-Null Count   Dtype  \n",
      "---  ------                        --------------   -----  \n",
      " 0   Loan ID                       111107 non-null  object \n",
      " 1   Customer ID                   111107 non-null  object \n",
      " 2   Loan Status                   111107 non-null  object \n",
      " 3   Current Loan Amount           111107 non-null  int64  \n",
      " 4   Term                          111107 non-null  object \n",
      " 5   Credit Score                  111107 non-null  float64\n",
      " 6   Years in current job          111107 non-null  int64  \n",
      " 7   Home Ownership                111107 non-null  object \n",
      " 8   Annual Income                 111107 non-null  float64\n",
      " 9   Purpose                       111107 non-null  object \n",
      " 10  Monthly Debt                  111107 non-null  float64\n",
      " 11  Years of Credit History       111107 non-null  float64\n",
      " 12  Months since last delinquent  111107 non-null  float64\n",
      " 13  Number of Open Accounts       111107 non-null  int64  \n",
      " 14  Number of Credit Problems     111107 non-null  int64  \n",
      " 15  Current Credit Balance        111107 non-null  int64  \n",
      " 16  Maximum Open Credit           111107 non-null  int32  \n",
      " 17  Bankruptcies                  111107 non-null  float64\n",
      " 18  Tax Liens                     111107 non-null  float64\n",
      "dtypes: float64(7), int32(1), int64(5), object(6)\n",
      "memory usage: 20.6+ MB\n"
     ]
    }
   ],
   "source": [
    "df_new.info()"
   ]
  },
  {
   "cell_type": "code",
   "execution_count": 38,
   "id": "e5e79d41",
   "metadata": {},
   "outputs": [],
   "source": [
    "from statsmodels.stats.outliers_influence import variance_inflation_factor"
   ]
  },
  {
   "cell_type": "code",
   "execution_count": 39,
   "id": "c11d3b86",
   "metadata": {},
   "outputs": [],
   "source": [
    "X = df_new[['Bankruptcies', 'Tax Liens']]"
   ]
  },
  {
   "cell_type": "code",
   "execution_count": 40,
   "id": "f93b9068",
   "metadata": {},
   "outputs": [],
   "source": [
    "vif_data = pd.DataFrame()\n",
    "vif_data[\"feature\"] = X.columns"
   ]
  },
  {
   "cell_type": "code",
   "execution_count": 41,
   "id": "05b5be39",
   "metadata": {},
   "outputs": [],
   "source": [
    "vif_data[\"VIF\"] = [variance_inflation_factor(X.values, i)\n",
    "                          for i in range(len(X.columns))]"
   ]
  },
  {
   "cell_type": "code",
   "execution_count": 42,
   "id": "18621426",
   "metadata": {},
   "outputs": [
    {
     "name": "stdout",
     "output_type": "stream",
     "text": [
      "        feature      VIF\n",
      "0  Bankruptcies  1.00661\n",
      "1     Tax Liens  1.00661\n"
     ]
    }
   ],
   "source": [
    "print(vif_data)"
   ]
  },
  {
   "cell_type": "code",
   "execution_count": 43,
   "id": "dbf1a2ae",
   "metadata": {},
   "outputs": [],
   "source": [
    "for i in range (111107):\n",
    "    if 'HaveMortgage' in (df_new['Home Ownership'][i]):\n",
    "        df_new['Home Ownership'][i]=df_new['Home Ownership'][i].replace('HaveMortgage','Home Mortgage')"
   ]
  },
  {
   "cell_type": "code",
   "execution_count": 44,
   "id": "63b46130",
   "metadata": {},
   "outputs": [
    {
     "data": {
      "text/plain": [
       "Home Mortgage    54051\n",
       "Rent             46868\n",
       "Own Home         10188\n",
       "Name: Home Ownership, dtype: int64"
      ]
     },
     "execution_count": 44,
     "metadata": {},
     "output_type": "execute_result"
    }
   ],
   "source": [
    "df_new[\"Home Ownership\"].value_counts()"
   ]
  },
  {
   "cell_type": "code",
   "execution_count": 45,
   "id": "39d3b0a1",
   "metadata": {},
   "outputs": [
    {
     "data": {
      "text/plain": [
       "Short Term    80274\n",
       "Long Term     30833\n",
       "Name: Term, dtype: int64"
      ]
     },
     "execution_count": 45,
     "metadata": {},
     "output_type": "execute_result"
    }
   ],
   "source": [
    "df_new['Term'].value_counts()"
   ]
  },
  {
   "cell_type": "code",
   "execution_count": 46,
   "id": "91657e66",
   "metadata": {},
   "outputs": [],
   "source": [
    "df_new['Loan Status'] = df_new['Loan Status'].map({'Charged Off':0, 'Fully Paid':1})"
   ]
  },
  {
   "cell_type": "code",
   "execution_count": 47,
   "id": "75b1fc1d",
   "metadata": {},
   "outputs": [],
   "source": [
    "df_new['Term']=np.where(df_new['Term']=='Long Term',1,0)"
   ]
  },
  {
   "cell_type": "code",
   "execution_count": 48,
   "id": "a19e6a17",
   "metadata": {},
   "outputs": [
    {
     "data": {
      "text/plain": [
       "0    80274\n",
       "1    30833\n",
       "Name: Term, dtype: int64"
      ]
     },
     "execution_count": 48,
     "metadata": {},
     "output_type": "execute_result"
    }
   ],
   "source": [
    "df_new['Term'].value_counts()"
   ]
  },
  {
   "cell_type": "code",
   "execution_count": 49,
   "id": "b7dfcd8e",
   "metadata": {},
   "outputs": [
    {
     "data": {
      "text/plain": [
       "0        754\n",
       "10782     14\n",
       "7411      13\n",
       "7412      13\n",
       "11188     13\n",
       "        ... \n",
       "67411      1\n",
       "9107       1\n",
       "57798      1\n",
       "5737       1\n",
       "53374      1\n",
       "Name: Maximum Open Credit, Length: 46624, dtype: int64"
      ]
     },
     "execution_count": 49,
     "metadata": {},
     "output_type": "execute_result"
    }
   ],
   "source": [
    "df_new['Maximum Open Credit'].value_counts()"
   ]
  },
  {
   "cell_type": "code",
   "execution_count": 50,
   "id": "53380388",
   "metadata": {},
   "outputs": [],
   "source": [
    "for i in range(111107):\n",
    "    if 'Other' in (df_new['Purpose'][i]):\n",
    "        df_new['Purpose'][i]=df_new['Purpose'][i].replace(\"Other\",\"other\")"
   ]
  },
  {
   "cell_type": "code",
   "execution_count": 51,
   "id": "6449cfda",
   "metadata": {},
   "outputs": [
    {
     "data": {
      "text/plain": [
       "Home Mortgage    54051\n",
       "Rent             46868\n",
       "Own Home         10188\n",
       "Name: Home Ownership, dtype: int64"
      ]
     },
     "execution_count": 51,
     "metadata": {},
     "output_type": "execute_result"
    }
   ],
   "source": [
    "df_new['Home Ownership'].value_counts()"
   ]
  },
  {
   "cell_type": "code",
   "execution_count": 52,
   "id": "be426d89",
   "metadata": {},
   "outputs": [],
   "source": [
    "df_new1=df_new.drop(columns=['Loan ID','Customer ID'])"
   ]
  },
  {
   "cell_type": "code",
   "execution_count": 53,
   "id": "130d7590",
   "metadata": {},
   "outputs": [
    {
     "data": {
      "text/plain": [
       "0    80274\n",
       "1    30833\n",
       "Name: Term, dtype: int64"
      ]
     },
     "execution_count": 53,
     "metadata": {},
     "output_type": "execute_result"
    }
   ],
   "source": [
    "df_new['Term'].value_counts()"
   ]
  },
  {
   "cell_type": "code",
   "execution_count": 54,
   "id": "2d83ef98",
   "metadata": {},
   "outputs": [],
   "source": [
    "xd=pd.get_dummies(df_new1,columns=['Home Ownership','Purpose'])"
   ]
  },
  {
   "cell_type": "code",
   "execution_count": 55,
   "id": "7c1b6dd2",
   "metadata": {
    "scrolled": true
   },
   "outputs": [
    {
     "data": {
      "text/html": [
       "<div>\n",
       "<style scoped>\n",
       "    .dataframe tbody tr th:only-of-type {\n",
       "        vertical-align: middle;\n",
       "    }\n",
       "\n",
       "    .dataframe tbody tr th {\n",
       "        vertical-align: top;\n",
       "    }\n",
       "\n",
       "    .dataframe thead th {\n",
       "        text-align: right;\n",
       "    }\n",
       "</style>\n",
       "<table border=\"1\" class=\"dataframe\">\n",
       "  <thead>\n",
       "    <tr style=\"text-align: right;\">\n",
       "      <th></th>\n",
       "      <th>Loan Status</th>\n",
       "      <th>Current Loan Amount</th>\n",
       "      <th>Term</th>\n",
       "      <th>Credit Score</th>\n",
       "      <th>Years in current job</th>\n",
       "      <th>Annual Income</th>\n",
       "      <th>Monthly Debt</th>\n",
       "      <th>Years of Credit History</th>\n",
       "      <th>Months since last delinquent</th>\n",
       "      <th>Number of Open Accounts</th>\n",
       "      <th>...</th>\n",
       "      <th>Purpose_Home Improvements</th>\n",
       "      <th>Purpose_Medical Bills</th>\n",
       "      <th>Purpose_Take a Trip</th>\n",
       "      <th>Purpose_major_purchase</th>\n",
       "      <th>Purpose_moving</th>\n",
       "      <th>Purpose_other</th>\n",
       "      <th>Purpose_renewable_energy</th>\n",
       "      <th>Purpose_small_business</th>\n",
       "      <th>Purpose_vacation</th>\n",
       "      <th>Purpose_wedding</th>\n",
       "    </tr>\n",
       "  </thead>\n",
       "  <tbody>\n",
       "    <tr>\n",
       "      <th>0</th>\n",
       "      <td>0</td>\n",
       "      <td>12232</td>\n",
       "      <td>0</td>\n",
       "      <td>7280.0</td>\n",
       "      <td>0</td>\n",
       "      <td>46643.0</td>\n",
       "      <td>777.39</td>\n",
       "      <td>18.0</td>\n",
       "      <td>10.0</td>\n",
       "      <td>12</td>\n",
       "      <td>...</td>\n",
       "      <td>0</td>\n",
       "      <td>0</td>\n",
       "      <td>0</td>\n",
       "      <td>0</td>\n",
       "      <td>0</td>\n",
       "      <td>0</td>\n",
       "      <td>0</td>\n",
       "      <td>0</td>\n",
       "      <td>0</td>\n",
       "      <td>0</td>\n",
       "    </tr>\n",
       "    <tr>\n",
       "      <th>1</th>\n",
       "      <td>0</td>\n",
       "      <td>25014</td>\n",
       "      <td>1</td>\n",
       "      <td>7330.0</td>\n",
       "      <td>10</td>\n",
       "      <td>81099.0</td>\n",
       "      <td>892.09</td>\n",
       "      <td>26.7</td>\n",
       "      <td>31.0</td>\n",
       "      <td>14</td>\n",
       "      <td>...</td>\n",
       "      <td>0</td>\n",
       "      <td>0</td>\n",
       "      <td>0</td>\n",
       "      <td>0</td>\n",
       "      <td>0</td>\n",
       "      <td>0</td>\n",
       "      <td>0</td>\n",
       "      <td>0</td>\n",
       "      <td>0</td>\n",
       "      <td>0</td>\n",
       "    </tr>\n",
       "    <tr>\n",
       "      <th>2</th>\n",
       "      <td>0</td>\n",
       "      <td>16117</td>\n",
       "      <td>0</td>\n",
       "      <td>7240.0</td>\n",
       "      <td>9</td>\n",
       "      <td>60438.0</td>\n",
       "      <td>1244.02</td>\n",
       "      <td>16.7</td>\n",
       "      <td>32.0</td>\n",
       "      <td>11</td>\n",
       "      <td>...</td>\n",
       "      <td>1</td>\n",
       "      <td>0</td>\n",
       "      <td>0</td>\n",
       "      <td>0</td>\n",
       "      <td>0</td>\n",
       "      <td>0</td>\n",
       "      <td>0</td>\n",
       "      <td>0</td>\n",
       "      <td>0</td>\n",
       "      <td>0</td>\n",
       "    </tr>\n",
       "    <tr>\n",
       "      <th>3</th>\n",
       "      <td>0</td>\n",
       "      <td>11716</td>\n",
       "      <td>0</td>\n",
       "      <td>7400.0</td>\n",
       "      <td>3</td>\n",
       "      <td>34171.0</td>\n",
       "      <td>990.94</td>\n",
       "      <td>10.0</td>\n",
       "      <td>31.0</td>\n",
       "      <td>21</td>\n",
       "      <td>...</td>\n",
       "      <td>0</td>\n",
       "      <td>0</td>\n",
       "      <td>0</td>\n",
       "      <td>0</td>\n",
       "      <td>0</td>\n",
       "      <td>0</td>\n",
       "      <td>0</td>\n",
       "      <td>0</td>\n",
       "      <td>0</td>\n",
       "      <td>0</td>\n",
       "    </tr>\n",
       "    <tr>\n",
       "      <th>4</th>\n",
       "      <td>0</td>\n",
       "      <td>9789</td>\n",
       "      <td>1</td>\n",
       "      <td>6860.0</td>\n",
       "      <td>10</td>\n",
       "      <td>47003.0</td>\n",
       "      <td>503.71</td>\n",
       "      <td>16.7</td>\n",
       "      <td>25.0</td>\n",
       "      <td>13</td>\n",
       "      <td>...</td>\n",
       "      <td>1</td>\n",
       "      <td>0</td>\n",
       "      <td>0</td>\n",
       "      <td>0</td>\n",
       "      <td>0</td>\n",
       "      <td>0</td>\n",
       "      <td>0</td>\n",
       "      <td>0</td>\n",
       "      <td>0</td>\n",
       "      <td>0</td>\n",
       "    </tr>\n",
       "    <tr>\n",
       "      <th>...</th>\n",
       "      <td>...</td>\n",
       "      <td>...</td>\n",
       "      <td>...</td>\n",
       "      <td>...</td>\n",
       "      <td>...</td>\n",
       "      <td>...</td>\n",
       "      <td>...</td>\n",
       "      <td>...</td>\n",
       "      <td>...</td>\n",
       "      <td>...</td>\n",
       "      <td>...</td>\n",
       "      <td>...</td>\n",
       "      <td>...</td>\n",
       "      <td>...</td>\n",
       "      <td>...</td>\n",
       "      <td>...</td>\n",
       "      <td>...</td>\n",
       "      <td>...</td>\n",
       "      <td>...</td>\n",
       "      <td>...</td>\n",
       "      <td>...</td>\n",
       "    </tr>\n",
       "    <tr>\n",
       "      <th>111102</th>\n",
       "      <td>1</td>\n",
       "      <td>15654</td>\n",
       "      <td>1</td>\n",
       "      <td>686.0</td>\n",
       "      <td>10</td>\n",
       "      <td>43050.0</td>\n",
       "      <td>889.69</td>\n",
       "      <td>14.1</td>\n",
       "      <td>49.0</td>\n",
       "      <td>18</td>\n",
       "      <td>...</td>\n",
       "      <td>0</td>\n",
       "      <td>0</td>\n",
       "      <td>0</td>\n",
       "      <td>0</td>\n",
       "      <td>0</td>\n",
       "      <td>0</td>\n",
       "      <td>0</td>\n",
       "      <td>0</td>\n",
       "      <td>0</td>\n",
       "      <td>0</td>\n",
       "    </tr>\n",
       "    <tr>\n",
       "      <th>111103</th>\n",
       "      <td>1</td>\n",
       "      <td>15237</td>\n",
       "      <td>0</td>\n",
       "      <td>706.0</td>\n",
       "      <td>10</td>\n",
       "      <td>60948.0</td>\n",
       "      <td>700.90</td>\n",
       "      <td>15.9</td>\n",
       "      <td>48.0</td>\n",
       "      <td>11</td>\n",
       "      <td>...</td>\n",
       "      <td>0</td>\n",
       "      <td>0</td>\n",
       "      <td>0</td>\n",
       "      <td>0</td>\n",
       "      <td>0</td>\n",
       "      <td>0</td>\n",
       "      <td>0</td>\n",
       "      <td>0</td>\n",
       "      <td>0</td>\n",
       "      <td>0</td>\n",
       "    </tr>\n",
       "    <tr>\n",
       "      <th>111104</th>\n",
       "      <td>1</td>\n",
       "      <td>10413</td>\n",
       "      <td>0</td>\n",
       "      <td>719.0</td>\n",
       "      <td>5</td>\n",
       "      <td>66945.0</td>\n",
       "      <td>1210.59</td>\n",
       "      <td>8.7</td>\n",
       "      <td>32.0</td>\n",
       "      <td>11</td>\n",
       "      <td>...</td>\n",
       "      <td>0</td>\n",
       "      <td>0</td>\n",
       "      <td>0</td>\n",
       "      <td>0</td>\n",
       "      <td>0</td>\n",
       "      <td>0</td>\n",
       "      <td>0</td>\n",
       "      <td>0</td>\n",
       "      <td>0</td>\n",
       "      <td>0</td>\n",
       "    </tr>\n",
       "    <tr>\n",
       "      <th>111105</th>\n",
       "      <td>1</td>\n",
       "      <td>34447</td>\n",
       "      <td>0</td>\n",
       "      <td>626.0</td>\n",
       "      <td>10</td>\n",
       "      <td>78736.0</td>\n",
       "      <td>1476.30</td>\n",
       "      <td>30.4</td>\n",
       "      <td>9.0</td>\n",
       "      <td>12</td>\n",
       "      <td>...</td>\n",
       "      <td>0</td>\n",
       "      <td>0</td>\n",
       "      <td>0</td>\n",
       "      <td>0</td>\n",
       "      <td>0</td>\n",
       "      <td>0</td>\n",
       "      <td>0</td>\n",
       "      <td>0</td>\n",
       "      <td>0</td>\n",
       "      <td>0</td>\n",
       "    </tr>\n",
       "    <tr>\n",
       "      <th>111106</th>\n",
       "      <td>1</td>\n",
       "      <td>9209</td>\n",
       "      <td>1</td>\n",
       "      <td>708.0</td>\n",
       "      <td>0</td>\n",
       "      <td>123454.0</td>\n",
       "      <td>668.71</td>\n",
       "      <td>20.1</td>\n",
       "      <td>16.0</td>\n",
       "      <td>8</td>\n",
       "      <td>...</td>\n",
       "      <td>0</td>\n",
       "      <td>0</td>\n",
       "      <td>0</td>\n",
       "      <td>0</td>\n",
       "      <td>0</td>\n",
       "      <td>0</td>\n",
       "      <td>0</td>\n",
       "      <td>0</td>\n",
       "      <td>0</td>\n",
       "      <td>0</td>\n",
       "    </tr>\n",
       "  </tbody>\n",
       "</table>\n",
       "<p>111107 rows × 33 columns</p>\n",
       "</div>"
      ],
      "text/plain": [
       "        Loan Status  Current Loan Amount  Term  Credit Score  \\\n",
       "0                 0                12232     0        7280.0   \n",
       "1                 0                25014     1        7330.0   \n",
       "2                 0                16117     0        7240.0   \n",
       "3                 0                11716     0        7400.0   \n",
       "4                 0                 9789     1        6860.0   \n",
       "...             ...                  ...   ...           ...   \n",
       "111102            1                15654     1         686.0   \n",
       "111103            1                15237     0         706.0   \n",
       "111104            1                10413     0         719.0   \n",
       "111105            1                34447     0         626.0   \n",
       "111106            1                 9209     1         708.0   \n",
       "\n",
       "        Years in current job  Annual Income  Monthly Debt  \\\n",
       "0                          0        46643.0        777.39   \n",
       "1                         10        81099.0        892.09   \n",
       "2                          9        60438.0       1244.02   \n",
       "3                          3        34171.0        990.94   \n",
       "4                         10        47003.0        503.71   \n",
       "...                      ...            ...           ...   \n",
       "111102                    10        43050.0        889.69   \n",
       "111103                    10        60948.0        700.90   \n",
       "111104                     5        66945.0       1210.59   \n",
       "111105                    10        78736.0       1476.30   \n",
       "111106                     0       123454.0        668.71   \n",
       "\n",
       "        Years of Credit History  Months since last delinquent  \\\n",
       "0                          18.0                          10.0   \n",
       "1                          26.7                          31.0   \n",
       "2                          16.7                          32.0   \n",
       "3                          10.0                          31.0   \n",
       "4                          16.7                          25.0   \n",
       "...                         ...                           ...   \n",
       "111102                     14.1                          49.0   \n",
       "111103                     15.9                          48.0   \n",
       "111104                      8.7                          32.0   \n",
       "111105                     30.4                           9.0   \n",
       "111106                     20.1                          16.0   \n",
       "\n",
       "        Number of Open Accounts  ...  Purpose_Home Improvements  \\\n",
       "0                            12  ...                          0   \n",
       "1                            14  ...                          0   \n",
       "2                            11  ...                          1   \n",
       "3                            21  ...                          0   \n",
       "4                            13  ...                          1   \n",
       "...                         ...  ...                        ...   \n",
       "111102                       18  ...                          0   \n",
       "111103                       11  ...                          0   \n",
       "111104                       11  ...                          0   \n",
       "111105                       12  ...                          0   \n",
       "111106                        8  ...                          0   \n",
       "\n",
       "        Purpose_Medical Bills  Purpose_Take a Trip  Purpose_major_purchase  \\\n",
       "0                           0                    0                       0   \n",
       "1                           0                    0                       0   \n",
       "2                           0                    0                       0   \n",
       "3                           0                    0                       0   \n",
       "4                           0                    0                       0   \n",
       "...                       ...                  ...                     ...   \n",
       "111102                      0                    0                       0   \n",
       "111103                      0                    0                       0   \n",
       "111104                      0                    0                       0   \n",
       "111105                      0                    0                       0   \n",
       "111106                      0                    0                       0   \n",
       "\n",
       "        Purpose_moving  Purpose_other  Purpose_renewable_energy  \\\n",
       "0                    0              0                         0   \n",
       "1                    0              0                         0   \n",
       "2                    0              0                         0   \n",
       "3                    0              0                         0   \n",
       "4                    0              0                         0   \n",
       "...                ...            ...                       ...   \n",
       "111102               0              0                         0   \n",
       "111103               0              0                         0   \n",
       "111104               0              0                         0   \n",
       "111105               0              0                         0   \n",
       "111106               0              0                         0   \n",
       "\n",
       "        Purpose_small_business  Purpose_vacation  Purpose_wedding  \n",
       "0                            0                 0                0  \n",
       "1                            0                 0                0  \n",
       "2                            0                 0                0  \n",
       "3                            0                 0                0  \n",
       "4                            0                 0                0  \n",
       "...                        ...               ...              ...  \n",
       "111102                       0                 0                0  \n",
       "111103                       0                 0                0  \n",
       "111104                       0                 0                0  \n",
       "111105                       0                 0                0  \n",
       "111106                       0                 0                0  \n",
       "\n",
       "[111107 rows x 33 columns]"
      ]
     },
     "execution_count": 55,
     "metadata": {},
     "output_type": "execute_result"
    }
   ],
   "source": [
    "xd"
   ]
  },
  {
   "cell_type": "code",
   "execution_count": 56,
   "id": "8ee827cf",
   "metadata": {},
   "outputs": [],
   "source": [
    "xd['Term']=np.where(xd['Term']=='Long Term',1,0)"
   ]
  },
  {
   "cell_type": "code",
   "execution_count": 57,
   "id": "cd257f89",
   "metadata": {},
   "outputs": [
    {
     "name": "stdout",
     "output_type": "stream",
     "text": [
      "<class 'pandas.core.frame.DataFrame'>\n",
      "Int64Index: 111107 entries, 0 to 111106\n",
      "Data columns (total 33 columns):\n",
      " #   Column                        Non-Null Count   Dtype  \n",
      "---  ------                        --------------   -----  \n",
      " 0   Loan Status                   111107 non-null  int64  \n",
      " 1   Current Loan Amount           111107 non-null  int64  \n",
      " 2   Term                          111107 non-null  int32  \n",
      " 3   Credit Score                  111107 non-null  float64\n",
      " 4   Years in current job          111107 non-null  int64  \n",
      " 5   Annual Income                 111107 non-null  float64\n",
      " 6   Monthly Debt                  111107 non-null  float64\n",
      " 7   Years of Credit History       111107 non-null  float64\n",
      " 8   Months since last delinquent  111107 non-null  float64\n",
      " 9   Number of Open Accounts       111107 non-null  int64  \n",
      " 10  Number of Credit Problems     111107 non-null  int64  \n",
      " 11  Current Credit Balance        111107 non-null  int64  \n",
      " 12  Maximum Open Credit           111107 non-null  int32  \n",
      " 13  Bankruptcies                  111107 non-null  float64\n",
      " 14  Tax Liens                     111107 non-null  float64\n",
      " 15  Home Ownership_Home Mortgage  111107 non-null  uint8  \n",
      " 16  Home Ownership_Own Home       111107 non-null  uint8  \n",
      " 17  Home Ownership_Rent           111107 non-null  uint8  \n",
      " 18  Purpose_Business Loan         111107 non-null  uint8  \n",
      " 19  Purpose_Buy House             111107 non-null  uint8  \n",
      " 20  Purpose_Buy a Car             111107 non-null  uint8  \n",
      " 21  Purpose_Debt Consolidation    111107 non-null  uint8  \n",
      " 22  Purpose_Educational Expenses  111107 non-null  uint8  \n",
      " 23  Purpose_Home Improvements     111107 non-null  uint8  \n",
      " 24  Purpose_Medical Bills         111107 non-null  uint8  \n",
      " 25  Purpose_Take a Trip           111107 non-null  uint8  \n",
      " 26  Purpose_major_purchase        111107 non-null  uint8  \n",
      " 27  Purpose_moving                111107 non-null  uint8  \n",
      " 28  Purpose_other                 111107 non-null  uint8  \n",
      " 29  Purpose_renewable_energy      111107 non-null  uint8  \n",
      " 30  Purpose_small_business        111107 non-null  uint8  \n",
      " 31  Purpose_vacation              111107 non-null  uint8  \n",
      " 32  Purpose_wedding               111107 non-null  uint8  \n",
      "dtypes: float64(7), int32(2), int64(6), uint8(18)\n",
      "memory usage: 18.7 MB\n"
     ]
    }
   ],
   "source": [
    "xd.info()"
   ]
  },
  {
   "cell_type": "code",
   "execution_count": 58,
   "id": "a25fd567",
   "metadata": {},
   "outputs": [],
   "source": [
    "X=xd.drop(columns='Loan Status')"
   ]
  },
  {
   "cell_type": "code",
   "execution_count": 59,
   "id": "a6660e35",
   "metadata": {},
   "outputs": [
    {
     "data": {
      "text/html": [
       "<div>\n",
       "<style scoped>\n",
       "    .dataframe tbody tr th:only-of-type {\n",
       "        vertical-align: middle;\n",
       "    }\n",
       "\n",
       "    .dataframe tbody tr th {\n",
       "        vertical-align: top;\n",
       "    }\n",
       "\n",
       "    .dataframe thead th {\n",
       "        text-align: right;\n",
       "    }\n",
       "</style>\n",
       "<table border=\"1\" class=\"dataframe\">\n",
       "  <thead>\n",
       "    <tr style=\"text-align: right;\">\n",
       "      <th></th>\n",
       "      <th>Current Loan Amount</th>\n",
       "      <th>Term</th>\n",
       "      <th>Credit Score</th>\n",
       "      <th>Years in current job</th>\n",
       "      <th>Annual Income</th>\n",
       "      <th>Monthly Debt</th>\n",
       "      <th>Years of Credit History</th>\n",
       "      <th>Months since last delinquent</th>\n",
       "      <th>Number of Open Accounts</th>\n",
       "      <th>Number of Credit Problems</th>\n",
       "      <th>...</th>\n",
       "      <th>Purpose_Home Improvements</th>\n",
       "      <th>Purpose_Medical Bills</th>\n",
       "      <th>Purpose_Take a Trip</th>\n",
       "      <th>Purpose_major_purchase</th>\n",
       "      <th>Purpose_moving</th>\n",
       "      <th>Purpose_other</th>\n",
       "      <th>Purpose_renewable_energy</th>\n",
       "      <th>Purpose_small_business</th>\n",
       "      <th>Purpose_vacation</th>\n",
       "      <th>Purpose_wedding</th>\n",
       "    </tr>\n",
       "  </thead>\n",
       "  <tbody>\n",
       "    <tr>\n",
       "      <th>0</th>\n",
       "      <td>12232</td>\n",
       "      <td>0</td>\n",
       "      <td>7280.0</td>\n",
       "      <td>0</td>\n",
       "      <td>46643.0</td>\n",
       "      <td>777.39</td>\n",
       "      <td>18.0</td>\n",
       "      <td>10.0</td>\n",
       "      <td>12</td>\n",
       "      <td>0</td>\n",
       "      <td>...</td>\n",
       "      <td>0</td>\n",
       "      <td>0</td>\n",
       "      <td>0</td>\n",
       "      <td>0</td>\n",
       "      <td>0</td>\n",
       "      <td>0</td>\n",
       "      <td>0</td>\n",
       "      <td>0</td>\n",
       "      <td>0</td>\n",
       "      <td>0</td>\n",
       "    </tr>\n",
       "    <tr>\n",
       "      <th>1</th>\n",
       "      <td>25014</td>\n",
       "      <td>0</td>\n",
       "      <td>7330.0</td>\n",
       "      <td>10</td>\n",
       "      <td>81099.0</td>\n",
       "      <td>892.09</td>\n",
       "      <td>26.7</td>\n",
       "      <td>31.0</td>\n",
       "      <td>14</td>\n",
       "      <td>0</td>\n",
       "      <td>...</td>\n",
       "      <td>0</td>\n",
       "      <td>0</td>\n",
       "      <td>0</td>\n",
       "      <td>0</td>\n",
       "      <td>0</td>\n",
       "      <td>0</td>\n",
       "      <td>0</td>\n",
       "      <td>0</td>\n",
       "      <td>0</td>\n",
       "      <td>0</td>\n",
       "    </tr>\n",
       "  </tbody>\n",
       "</table>\n",
       "<p>2 rows × 32 columns</p>\n",
       "</div>"
      ],
      "text/plain": [
       "   Current Loan Amount  Term  Credit Score  Years in current job  \\\n",
       "0                12232     0        7280.0                     0   \n",
       "1                25014     0        7330.0                    10   \n",
       "\n",
       "   Annual Income  Monthly Debt  Years of Credit History  \\\n",
       "0        46643.0        777.39                     18.0   \n",
       "1        81099.0        892.09                     26.7   \n",
       "\n",
       "   Months since last delinquent  Number of Open Accounts  \\\n",
       "0                          10.0                       12   \n",
       "1                          31.0                       14   \n",
       "\n",
       "   Number of Credit Problems  ...  Purpose_Home Improvements  \\\n",
       "0                          0  ...                          0   \n",
       "1                          0  ...                          0   \n",
       "\n",
       "   Purpose_Medical Bills  Purpose_Take a Trip  Purpose_major_purchase  \\\n",
       "0                      0                    0                       0   \n",
       "1                      0                    0                       0   \n",
       "\n",
       "   Purpose_moving  Purpose_other  Purpose_renewable_energy  \\\n",
       "0               0              0                         0   \n",
       "1               0              0                         0   \n",
       "\n",
       "   Purpose_small_business  Purpose_vacation  Purpose_wedding  \n",
       "0                       0                 0                0  \n",
       "1                       0                 0                0  \n",
       "\n",
       "[2 rows x 32 columns]"
      ]
     },
     "execution_count": 59,
     "metadata": {},
     "output_type": "execute_result"
    }
   ],
   "source": [
    "X.head(2)"
   ]
  },
  {
   "cell_type": "code",
   "execution_count": null,
   "id": "5146dab9",
   "metadata": {},
   "outputs": [],
   "source": []
  },
  {
   "cell_type": "code",
   "execution_count": 60,
   "id": "881031b2",
   "metadata": {},
   "outputs": [
    {
     "data": {
      "text/plain": [
       "Short Term    80274\n",
       "Long Term     30833\n",
       "Name: Term, dtype: int64"
      ]
     },
     "execution_count": 60,
     "metadata": {},
     "output_type": "execute_result"
    }
   ],
   "source": [
    "df['Term'].value_counts()"
   ]
  },
  {
   "cell_type": "code",
   "execution_count": 61,
   "id": "57560ee2",
   "metadata": {},
   "outputs": [],
   "source": [
    "y=xd['Loan Status']"
   ]
  },
  {
   "cell_type": "code",
   "execution_count": 62,
   "id": "a840f4e1",
   "metadata": {},
   "outputs": [
    {
     "data": {
      "text/plain": [
       "0         0\n",
       "1         0\n",
       "2         0\n",
       "3         0\n",
       "4         0\n",
       "         ..\n",
       "111102    1\n",
       "111103    1\n",
       "111104    1\n",
       "111105    1\n",
       "111106    1\n",
       "Name: Loan Status, Length: 111107, dtype: int64"
      ]
     },
     "execution_count": 62,
     "metadata": {},
     "output_type": "execute_result"
    }
   ],
   "source": [
    "y"
   ]
  },
  {
   "cell_type": "code",
   "execution_count": 63,
   "id": "1064276a",
   "metadata": {},
   "outputs": [],
   "source": [
    "from sklearn.model_selection import train_test_split\n",
    "from sklearn.linear_model import LogisticRegression\n",
    "from sklearn.metrics import accuracy_score,plot_roc_curve,roc_curve,roc_auc_score,classification_report,confusion_matrix,recall_score,f1_score,precision_score,precision_recall_curve"
   ]
  },
  {
   "cell_type": "code",
   "execution_count": 64,
   "id": "51664e7c",
   "metadata": {
    "scrolled": false
   },
   "outputs": [],
   "source": [
    "X_train,X_test,y_train,y_test=train_test_split(X,y,random_state=199)"
   ]
  },
  {
   "cell_type": "code",
   "execution_count": 65,
   "id": "f23d597e",
   "metadata": {},
   "outputs": [
    {
     "data": {
      "text/plain": [
       "(83330, 32)"
      ]
     },
     "execution_count": 65,
     "metadata": {},
     "output_type": "execute_result"
    }
   ],
   "source": [
    "X_train.shape"
   ]
  },
  {
   "cell_type": "code",
   "execution_count": 100,
   "id": "98233afb",
   "metadata": {},
   "outputs": [
    {
     "data": {
      "text/plain": [
       "1    21395\n",
       "0     6382\n",
       "Name: Loan Status, dtype: int64"
      ]
     },
     "execution_count": 100,
     "metadata": {},
     "output_type": "execute_result"
    }
   ],
   "source": [
    "y_test.value_counts()"
   ]
  },
  {
   "cell_type": "code",
   "execution_count": 97,
   "id": "ca924e00",
   "metadata": {
    "scrolled": true
   },
   "outputs": [
    {
     "data": {
      "text/plain": [
       "1    64539\n",
       "0    18791\n",
       "Name: Loan Status, dtype: int64"
      ]
     },
     "execution_count": 97,
     "metadata": {},
     "output_type": "execute_result"
    }
   ],
   "source": [
    "y_train.value_counts()"
   ]
  },
  {
   "cell_type": "code",
   "execution_count": 66,
   "id": "282f7565",
   "metadata": {},
   "outputs": [
    {
     "data": {
      "text/plain": [
       "(83330,)"
      ]
     },
     "execution_count": 66,
     "metadata": {},
     "output_type": "execute_result"
    }
   ],
   "source": [
    "y_train.shape"
   ]
  },
  {
   "cell_type": "code",
   "execution_count": 67,
   "id": "89e60e92",
   "metadata": {},
   "outputs": [],
   "source": [
    "lr=LogisticRegression()"
   ]
  },
  {
   "cell_type": "code",
   "execution_count": 68,
   "id": "e5d61217",
   "metadata": {},
   "outputs": [
    {
     "data": {
      "text/plain": [
       "LogisticRegression()"
      ]
     },
     "execution_count": 68,
     "metadata": {},
     "output_type": "execute_result"
    }
   ],
   "source": [
    "lr.fit(X_train,y_train)"
   ]
  },
  {
   "cell_type": "code",
   "execution_count": 69,
   "id": "6402d94c",
   "metadata": {},
   "outputs": [],
   "source": [
    "y_pred=lr.predict(X_train)"
   ]
  },
  {
   "cell_type": "code",
   "execution_count": 70,
   "id": "6639d7f8",
   "metadata": {},
   "outputs": [
    {
     "data": {
      "text/plain": [
       "array([1, 1, 1, ..., 1, 1, 1], dtype=int64)"
      ]
     },
     "execution_count": 70,
     "metadata": {},
     "output_type": "execute_result"
    }
   ],
   "source": [
    "y_pred"
   ]
  },
  {
   "cell_type": "code",
   "execution_count": 71,
   "id": "26598397",
   "metadata": {},
   "outputs": [],
   "source": [
    "acc=accuracy_score(y_train,y_pred)"
   ]
  },
  {
   "cell_type": "code",
   "execution_count": 72,
   "id": "7364e3e1",
   "metadata": {},
   "outputs": [
    {
     "data": {
      "text/plain": [
       "0.8199207968318732"
      ]
     },
     "execution_count": 72,
     "metadata": {},
     "output_type": "execute_result"
    }
   ],
   "source": [
    "acc"
   ]
  },
  {
   "cell_type": "code",
   "execution_count": 73,
   "id": "40ae2cb9",
   "metadata": {},
   "outputs": [
    {
     "name": "stdout",
     "output_type": "stream",
     "text": [
      "F1 : 89.57699520733485\n"
     ]
    }
   ],
   "source": [
    "print(\"F1 :\",f1_score(y_train, y_pred)*100)"
   ]
  },
  {
   "cell_type": "code",
   "execution_count": 74,
   "id": "25611043",
   "metadata": {},
   "outputs": [],
   "source": [
    "y_test_pred=lr.predict(X_test)"
   ]
  },
  {
   "cell_type": "code",
   "execution_count": 75,
   "id": "231d2a7e",
   "metadata": {},
   "outputs": [
    {
     "name": "stdout",
     "output_type": "stream",
     "text": [
      "              precision    recall  f1-score   support\n",
      "\n",
      "           0       0.99      0.20      0.34     18791\n",
      "           1       0.81      1.00      0.90     64539\n",
      "\n",
      "    accuracy                           0.82     83330\n",
      "   macro avg       0.90      0.60      0.62     83330\n",
      "weighted avg       0.85      0.82      0.77     83330\n",
      "\n"
     ]
    }
   ],
   "source": [
    "print(classification_report(y_train,y_pred))"
   ]
  },
  {
   "cell_type": "code",
   "execution_count": 76,
   "id": "47f76785",
   "metadata": {},
   "outputs": [
    {
     "name": "stdout",
     "output_type": "stream",
     "text": [
      "F1 : 89.19121943076539\n"
     ]
    }
   ],
   "source": [
    "print(\"F1 :\",f1_score(y_test, y_test_pred)*100)"
   ]
  },
  {
   "cell_type": "code",
   "execution_count": 77,
   "id": "1e2d977b",
   "metadata": {},
   "outputs": [
    {
     "name": "stdout",
     "output_type": "stream",
     "text": [
      "              precision    recall  f1-score   support\n",
      "\n",
      "           0       0.98      0.19      0.32      6382\n",
      "           1       0.81      1.00      0.89     21395\n",
      "\n",
      "    accuracy                           0.81     27777\n",
      "   macro avg       0.89      0.60      0.61     27777\n",
      "weighted avg       0.85      0.81      0.76     27777\n",
      "\n"
     ]
    }
   ],
   "source": [
    "print(classification_report(y_test,y_test_pred))"
   ]
  },
  {
   "cell_type": "code",
   "execution_count": 129,
   "id": "24d2fd2d",
   "metadata": {},
   "outputs": [],
   "source": [
    "## smote initialization"
   ]
  },
  {
   "cell_type": "code",
   "execution_count": 78,
   "id": "927f589e",
   "metadata": {},
   "outputs": [
    {
     "name": "stdout",
     "output_type": "stream",
     "text": [
      "Requirement already satisfied: imblearn in c:\\users\\manis\\anaconda3\\lib\\site-packages (0.0)\n",
      "Requirement already satisfied: imbalanced-learn in c:\\users\\manis\\anaconda3\\lib\\site-packages (from imblearn) (0.10.0)\n",
      "Requirement already satisfied: scipy>=1.3.2 in c:\\users\\manis\\anaconda3\\lib\\site-packages (from imbalanced-learn->imblearn) (1.7.3)\n",
      "Requirement already satisfied: threadpoolctl>=2.0.0 in c:\\users\\manis\\anaconda3\\lib\\site-packages (from imbalanced-learn->imblearn) (2.2.0)\n",
      "Requirement already satisfied: scikit-learn>=1.0.2 in c:\\users\\manis\\anaconda3\\lib\\site-packages (from imbalanced-learn->imblearn) (1.0.2)\n",
      "Requirement already satisfied: numpy>=1.17.3 in c:\\users\\manis\\anaconda3\\lib\\site-packages (from imbalanced-learn->imblearn) (1.21.5)\n",
      "Requirement already satisfied: joblib>=1.1.1 in c:\\users\\manis\\anaconda3\\lib\\site-packages (from imbalanced-learn->imblearn) (1.2.0)\n"
     ]
    }
   ],
   "source": [
    "!pip install imblearn"
   ]
  },
  {
   "cell_type": "code",
   "execution_count": 79,
   "id": "7e00261c",
   "metadata": {},
   "outputs": [
    {
     "name": "stderr",
     "output_type": "stream",
     "text": [
      "ERROR: Could not find a version that satisfies the requirement collections (from versions: none)\n",
      "ERROR: No matching distribution found for collections\n"
     ]
    }
   ],
   "source": [
    "!pip install collections"
   ]
  },
  {
   "cell_type": "code",
   "execution_count": 80,
   "id": "131bc0d1",
   "metadata": {},
   "outputs": [
    {
     "name": "stdout",
     "output_type": "stream",
     "text": [
      "Requirement already satisfied: counter in c:\\users\\manis\\anaconda3\\lib\\site-packages (1.0.0)\n"
     ]
    }
   ],
   "source": [
    "!pip install counter"
   ]
  },
  {
   "cell_type": "markdown",
   "id": "bcf62efc",
   "metadata": {},
   "source": [
    "### SMOTE"
   ]
  },
  {
   "cell_type": "code",
   "execution_count": 81,
   "id": "992f7e9a",
   "metadata": {},
   "outputs": [],
   "source": [
    "from imblearn.over_sampling import SMOTE\n",
    "from collections import Counter"
   ]
  },
  {
   "cell_type": "code",
   "execution_count": 82,
   "id": "ce78ab56",
   "metadata": {},
   "outputs": [],
   "source": [
    "os=SMOTE(random_state=30)"
   ]
  },
  {
   "cell_type": "code",
   "execution_count": 83,
   "id": "636166fb",
   "metadata": {},
   "outputs": [],
   "source": [
    "X_train_balanced,y_train_balanced=os.fit_resample(X_train,y_train)"
   ]
  },
  {
   "cell_type": "code",
   "execution_count": 102,
   "id": "22a10a9f",
   "metadata": {},
   "outputs": [],
   "source": [
    "#count=Counter(X_train_balanced)\n",
    "#print(count)"
   ]
  },
  {
   "cell_type": "code",
   "execution_count": 84,
   "id": "039f863e",
   "metadata": {
    "scrolled": true
   },
   "outputs": [
    {
     "name": "stdout",
     "output_type": "stream",
     "text": [
      "Counter({1: 64539, 0: 64539})\n"
     ]
    }
   ],
   "source": [
    "count=Counter(y_train_balanced)\n",
    "print(count)"
   ]
  },
  {
   "cell_type": "markdown",
   "id": "532c27db",
   "metadata": {},
   "source": [
    "### Logistic Regression"
   ]
  },
  {
   "cell_type": "code",
   "execution_count": 85,
   "id": "56307911",
   "metadata": {
    "scrolled": true
   },
   "outputs": [
    {
     "data": {
      "text/plain": [
       "LogisticRegression()"
      ]
     },
     "execution_count": 85,
     "metadata": {},
     "output_type": "execute_result"
    }
   ],
   "source": [
    "lr2=LogisticRegression()\n",
    "lr2.fit(X_train_balanced,y_train_balanced)"
   ]
  },
  {
   "cell_type": "code",
   "execution_count": 86,
   "id": "8b477761",
   "metadata": {},
   "outputs": [
    {
     "name": "stdout",
     "output_type": "stream",
     "text": [
      "Confusion matrix:\n",
      " [[50600 13939]\n",
      " [30470 34069]]\n",
      "Scores on Train Data: \n",
      "Accuracy : 65.59522149398038\n",
      "Training AUC: 74.3044 %\n",
      "F1 : 60.54181808488897\n",
      "precision : 0.7096525579070155\n",
      "recall : 0.5278823657013588\n"
     ]
    },
    {
     "data": {
      "image/png": "[encoded data removed]",
      "text/plain": [
       "<Figure size 432x288 with 1 Axes>"
      ]
     },
     "metadata": {
      "needs_background": "light"
     },
     "output_type": "display_data"
    }
   ],
   "source": [
    "y_train_pred = lr2.predict(X_train_balanced)\n",
    "\n",
    "y_train_pred_probs = lr2.predict_proba(X_train_balanced)[:,1]\n",
    "train_accuracy = accuracy_score(y_train_balanced, y_train_pred)*100\n",
    "train_auc_roc = roc_auc_score(y_train_balanced, y_train_pred_probs)*100\n",
    "\n",
    "print('Confusion matrix:\\n', confusion_matrix(y_train_balanced, y_train_pred))\n",
    "print(\"Scores on Train Data: \")\n",
    "print(\"Accuracy :\",train_accuracy)\n",
    "print('Training AUC: %.4f %%' % train_auc_roc)\n",
    "print(\"F1 :\",f1_score(y_train_balanced,y_train_pred)*100)\n",
    "print(\"precision :\",precision_score(y_train_balanced,y_train_pred))\n",
    "print(\"recall :\",recall_score(y_train_balanced,y_train_pred))\n",
    "plot_roc_curve(lr2, X_train_balanced,y_train_balanced)\n",
    "plt.show()"
   ]
  },
  {
   "cell_type": "code",
   "execution_count": 107,
   "id": "5fb8a88d",
   "metadata": {},
   "outputs": [
    {
     "name": "stdout",
     "output_type": "stream",
     "text": [
      "Classification Report :               precision    recall  f1-score   support\n",
      "\n",
      "           0       0.62      0.78      0.70     64539\n",
      "           1       0.71      0.53      0.61     64539\n",
      "\n",
      "    accuracy                           0.66    129078\n",
      "   macro avg       0.67      0.66      0.65    129078\n",
      "weighted avg       0.67      0.66      0.65    129078\n",
      "\n"
     ]
    }
   ],
   "source": [
    "print(\"Classification Report :\",classification_report(y_train_balanced,y_train_pred))"
   ]
  },
  {
   "cell_type": "code",
   "execution_count": 106,
   "id": "b8fc4aeb",
   "metadata": {},
   "outputs": [
    {
     "name": "stdout",
     "output_type": "stream",
     "text": [
      "Confusion matrix:\n",
      " [[ 4895  1487]\n",
      " [10122 11273]]\n",
      "Scores on Train Data: \n",
      "Accuracy : 58.206429780033844\n",
      "F1 : 66.0108329673547\n",
      "precision : 0.8834639498432602\n",
      "recall : 0.5268988081327413\n"
     ]
    }
   ],
   "source": [
    "y_train_pred1= lr2.predict(X_train_balanced)\n",
    "y_test_pred1=lr2.predict(X_test)\n",
    "\n",
    "y_train_pred_probs1 = lr2.predict_proba(X_train_balanced)[:,1]\n",
    "#y_test_pred_prob1= dtc.predict_proba(y_test)[:,1]\n",
    "train_accuracy = accuracy_score(y_test, y_test_pred1)*100\n",
    "#train_auc_roc = roc_auc_score(y_train_balanced, y_train_pred_probs1)*100\n",
    "\n",
    "print('Confusion matrix:\\n', confusion_matrix(y_test, y_test_pred1))\n",
    "print(\"Scores on Train Data: \")\n",
    "print(\"Accuracy :\",train_accuracy)\n",
    "#print('Training AUC: %.4f %%' % train_auc_roc)\n",
    "print(\"F1 :\",f1_score(y_test, y_test_pred1)*100)\n",
    "print(\"precision :\",precision_score(y_test, y_test_pred1))\n",
    "print(\"recall :\",recall_score(y_test, y_test_pred1))"
   ]
  },
  {
   "cell_type": "code",
   "execution_count": 108,
   "id": "2bb89c6d",
   "metadata": {
    "scrolled": true
   },
   "outputs": [
    {
     "name": "stdout",
     "output_type": "stream",
     "text": [
      "Classification Report :               precision    recall  f1-score   support\n",
      "\n",
      "           0       0.33      0.77      0.46      6382\n",
      "           1       0.88      0.53      0.66     21395\n",
      "\n",
      "    accuracy                           0.58     27777\n",
      "   macro avg       0.60      0.65      0.56     27777\n",
      "weighted avg       0.76      0.58      0.61     27777\n",
      "\n"
     ]
    }
   ],
   "source": [
    "print(\"Classification Report :\",classification_report(y_test,y_test_pred1))"
   ]
  },
  {
   "cell_type": "code",
   "execution_count": 88,
   "id": "dd5d7c89",
   "metadata": {},
   "outputs": [
    {
     "data": {
      "text/plain": [
       "1    64539\n",
       "0    64539\n",
       "Name: Loan Status, dtype: int64"
      ]
     },
     "execution_count": 88,
     "metadata": {},
     "output_type": "execute_result"
    }
   ],
   "source": [
    "y_train_balanced.value_counts()"
   ]
  },
  {
   "cell_type": "markdown",
   "id": "900aaaf0",
   "metadata": {},
   "source": [
    "### Decision Tree calssifier"
   ]
  },
  {
   "cell_type": "code",
   "execution_count": 89,
   "id": "07bbed12",
   "metadata": {},
   "outputs": [],
   "source": [
    "from sklearn.tree import DecisionTreeClassifier"
   ]
  },
  {
   "cell_type": "code",
   "execution_count": 90,
   "id": "52830b71",
   "metadata": {},
   "outputs": [
    {
     "data": {
      "text/plain": [
       "DecisionTreeClassifier()"
      ]
     },
     "execution_count": 90,
     "metadata": {},
     "output_type": "execute_result"
    }
   ],
   "source": [
    "dtc=DecisionTreeClassifier()\n",
    "dtc.fit(X_train_balanced,y_train_balanced)"
   ]
  },
  {
   "cell_type": "code",
   "execution_count": 91,
   "id": "b80bf4ad",
   "metadata": {},
   "outputs": [
    {
     "name": "stdout",
     "output_type": "stream",
     "text": [
      "Confusion matrix:\n",
      " [[ 5204  1178]\n",
      " [ 1306 20089]]\n",
      "Scores on Train Data: \n",
      "Accuracy : 91.05734960578896\n",
      "F1 : 94.17748816276782\n",
      "precision : 0.944609018667419\n",
      "recall : 0.9389577003972891\n"
     ]
    }
   ],
   "source": [
    "y_train_pred1= dtc.predict(X_train_balanced)\n",
    "y_test_pred1=dtc.predict(X_test)\n",
    "\n",
    "y_train_pred_probs1 = dtc.predict_proba(X_train_balanced)[:,1]\n",
    "#y_test_pred_prob1= dtc.predict_proba(y_test)[:,1]\n",
    "train_accuracy = accuracy_score(y_test, y_test_pred1)*100\n",
    "#train_auc_roc = roc_auc_score(y_train_balanced, y_train_pred_probs1)*100\n",
    "\n",
    "print('Confusion matrix:\\n', confusion_matrix(y_test, y_test_pred1))\n",
    "print(\"Scores on Train Data: \")\n",
    "print(\"Accuracy :\",train_accuracy)\n",
    "#print('Training AUC: %.4f %%' % train_auc_roc)\n",
    "print(\"F1 :\",f1_score(y_test, y_test_pred1)*100)\n",
    "print(\"precision :\",precision_score(y_test, y_test_pred1))\n",
    "print(\"recall :\",recall_score(y_test, y_test_pred1))\n",
    "#plot_roc_curve(lr2, X_train_balanced,y_train_balanced)\n",
    "#plt.show()"
   ]
  },
  {
   "cell_type": "code",
   "execution_count": 92,
   "id": "6f1ce1a3",
   "metadata": {
    "scrolled": true
   },
   "outputs": [
    {
     "name": "stdout",
     "output_type": "stream",
     "text": [
      "Classification Report :               precision    recall  f1-score   support\n",
      "\n",
      "           0       0.80      0.82      0.81      6382\n",
      "           1       0.94      0.94      0.94     21395\n",
      "\n",
      "    accuracy                           0.91     27777\n",
      "   macro avg       0.87      0.88      0.87     27777\n",
      "weighted avg       0.91      0.91      0.91     27777\n",
      "\n"
     ]
    }
   ],
   "source": [
    "print(\"Classification Report :\",classification_report(y_test, y_test_pred1))"
   ]
  },
  {
   "cell_type": "markdown",
   "id": "539e145d",
   "metadata": {},
   "source": [
    "### Random Forest  Classifier"
   ]
  },
  {
   "cell_type": "code",
   "execution_count": 113,
   "id": "71289794",
   "metadata": {},
   "outputs": [
    {
     "name": "stdout",
     "output_type": "stream",
     "text": [
      "Accuracy score:  0.9352341865572236\n",
      "Area under ROC : 0.8810468820456341\n",
      "F1-score:  0.9589166228961611\n",
      "              precision    recall  f1-score   support\n",
      "\n",
      "           0       0.93      0.78      0.85      6382\n",
      "           1       0.94      0.98      0.96     21395\n",
      "\n",
      "    accuracy                           0.94     27777\n",
      "   macro avg       0.93      0.88      0.90     27777\n",
      "weighted avg       0.93      0.94      0.93     27777\n",
      "\n"
     ]
    }
   ],
   "source": [
    "rf=RandomForestClassifier()\n",
    "rf.fit(X_train_balanced,y_train_balanced)\n",
    "y_pred2=rf.predict(X_test)\n",
    "print('Accuracy score: ',accuracy_score(y_test,y_pred2))\n",
    "print('Area under ROC :',roc_auc_score(y_test,y_pred2))\n",
    "print('F1-score: ',f1_score(y_test,y_pred2))\n",
    "print(classification_report(y_test,y_pred2))"
   ]
  },
  {
   "cell_type": "markdown",
   "id": "aa2a2a57",
   "metadata": {},
   "source": [
    "### Bagging Classifier"
   ]
  },
  {
   "cell_type": "code",
   "execution_count": 115,
   "id": "d67d38f7",
   "metadata": {},
   "outputs": [
    {
     "data": {
      "text/plain": [
       "BaggingClassifier()"
      ]
     },
     "execution_count": 115,
     "metadata": {},
     "output_type": "execute_result"
    }
   ],
   "source": [
    "bag=BaggingClassifier()\n",
    "bag.fit(X_train_balanced,y_train_balanced)"
   ]
  },
  {
   "cell_type": "code",
   "execution_count": 116,
   "id": "19631ab1",
   "metadata": {},
   "outputs": [
    {
     "name": "stdout",
     "output_type": "stream",
     "text": [
      "Accuracy score:  0.9200057601612845\n",
      "Area under ROC : 0.884080613791022\n",
      "F1-score:  0.9482002983961209\n",
      "              precision    recall  f1-score   support\n",
      "\n",
      "           0       0.83      0.82      0.82      6382\n",
      "           1       0.95      0.95      0.95     21395\n",
      "\n",
      "    accuracy                           0.92     27777\n",
      "   macro avg       0.89      0.88      0.89     27777\n",
      "weighted avg       0.92      0.92      0.92     27777\n",
      "\n"
     ]
    }
   ],
   "source": [
    "y_pred3=bag.predict(X_test)\n",
    "print('Accuracy score: ',accuracy_score(y_test,y_pred3))\n",
    "print('Area under ROC :',roc_auc_score(y_test,y_pred3))\n",
    "print('F1-score: ',f1_score(y_test,y_pred3))\n",
    "print(classification_report(y_test,y_pred3))"
   ]
  },
  {
   "cell_type": "markdown",
   "id": "15117c7b",
   "metadata": {},
   "source": [
    "### Adaboost Classifier"
   ]
  },
  {
   "cell_type": "code",
   "execution_count": 119,
   "id": "63543aa4",
   "metadata": {},
   "outputs": [
    {
     "data": {
      "text/plain": [
       "AdaBoostClassifier()"
      ]
     },
     "execution_count": 119,
     "metadata": {},
     "output_type": "execute_result"
    }
   ],
   "source": [
    "adc=AdaBoostClassifier()\n",
    "adc.fit(X_train_balanced,y_train_balanced)"
   ]
  },
  {
   "cell_type": "code",
   "execution_count": 120,
   "id": "12428ba5",
   "metadata": {},
   "outputs": [
    {
     "name": "stdout",
     "output_type": "stream",
     "text": [
      "Accuracy score:  0.914641609965079\n",
      "Area under ROC : 0.8709228213933364\n",
      "F1-score:  0.9449871226710597\n",
      "              precision    recall  f1-score   support\n",
      "\n",
      "           0       0.83      0.79      0.81      6382\n",
      "           1       0.94      0.95      0.94     21395\n",
      "\n",
      "    accuracy                           0.91     27777\n",
      "   macro avg       0.88      0.87      0.88     27777\n",
      "weighted avg       0.91      0.91      0.91     27777\n",
      "\n"
     ]
    }
   ],
   "source": [
    "y_pred4=adc.predict(X_test)\n",
    "print('Accuracy score: ',accuracy_score(y_test,y_pred4))\n",
    "print('Area under ROC :',roc_auc_score(y_test,y_pred4))\n",
    "print('F1-score: ',f1_score(y_test,y_pred4))\n",
    "print(classification_report(y_test,y_pred4))"
   ]
  },
  {
   "cell_type": "markdown",
   "id": "d93a60e6",
   "metadata": {},
   "source": [
    "### KNN Classifier"
   ]
  },
  {
   "cell_type": "code",
   "execution_count": 127,
   "id": "6d5d94ec",
   "metadata": {},
   "outputs": [
    {
     "data": {
      "text/plain": [
       "KNeighborsClassifier()"
      ]
     },
     "execution_count": 127,
     "metadata": {},
     "output_type": "execute_result"
    }
   ],
   "source": [
    "knn=KNeighborsClassifier()\n",
    "knn.fit(X_train_balanced,y_train_balanced)"
   ]
  },
  {
   "cell_type": "code",
   "execution_count": 128,
   "id": "dd8ffcdb",
   "metadata": {},
   "outputs": [
    {
     "name": "stdout",
     "output_type": "stream",
     "text": [
      "Accuracy score:  0.914641609965079\n",
      "Area under ROC : 0.8709228213933364\n",
      "F1-score:  0.9449871226710597\n",
      "              precision    recall  f1-score   support\n",
      "\n",
      "           0       0.83      0.79      0.81      6382\n",
      "           1       0.94      0.95      0.94     21395\n",
      "\n",
      "    accuracy                           0.91     27777\n",
      "   macro avg       0.88      0.87      0.88     27777\n",
      "weighted avg       0.91      0.91      0.91     27777\n",
      "\n"
     ]
    }
   ],
   "source": [
    "y_pred5=adc.predict(X_test)\n",
    "print('Accuracy score: ',accuracy_score(y_test,y_pred5))\n",
    "print('Area under ROC :',roc_auc_score(y_test,y_pred5))\n",
    "print('F1-score: ',f1_score(y_test,y_pred5))\n",
    "print(classification_report(y_test,y_pred5))"
   ]
  },
  {
   "cell_type": "code",
   "execution_count": null,
   "id": "24e25e65",
   "metadata": {},
   "outputs": [],
   "source": []
  },
  {
   "cell_type": "code",
   "execution_count": null,
   "id": "8a4c6af8",
   "metadata": {},
   "outputs": [],
   "source": []
  },
  {
   "cell_type": "code",
   "execution_count": null,
   "id": "94be7943",
   "metadata": {},
   "outputs": [],
   "source": []
  }
 ],
 "metadata": {
  "kernelspec": {
   "display_name": "Python 3 (ipykernel)",
   "language": "python",
   "name": "python3"
  },
  "language_info": {
   "codemirror_mode": {
    "name": "ipython",
    "version": 3
   },
   "file_extension": ".py",
   "mimetype": "text/x-python",
   "name": "python",
   "nbconvert_exporter": "python",
   "pygments_lexer": "ipython3",
   "version": "3.9.16"
  }
 },
 "nbformat": 4,
 "nbformat_minor": 5
}
